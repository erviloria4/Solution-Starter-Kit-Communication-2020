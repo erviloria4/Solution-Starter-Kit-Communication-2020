{
  "cells": [
    {
      "cell_type": "markdown",
      "metadata": {
        "id": "view-in-github",
        "colab_type": "text"
      },
      "source": [
        "<a href=\"https://colab.research.google.com/github/erviloria4/Solution-Starter-Kit-Communication-2020/blob/master/Copia_en_Espa%C3%B1ol_de_tutorial_great_expectations.ipynb\" target=\"_parent\"><img src=\"https://colab.research.google.com/assets/colab-badge.svg\" alt=\"Open In Colab\"/></a>"
      ]
    },
    {
      "cell_type": "markdown",
      "source": [
        "Original: https://colab.research.google.com/github/datarootsio/tutorial-great-expectations/blob/main/tutorial_great_expectations.ipynb"
      ],
      "metadata": {
        "id": "3VhuT3Fi-hv-"
      }
    },
    {
      "cell_type": "markdown",
      "metadata": {
        "id": "2uCO7tmEunG9"
      },
      "source": [
        "# Tutorial de Great Expectations\n",
        "\n",
        "¡Bienvenidos! En este tutorial echaremos un vistazo a Great Expectations, una herramienta escrita y configurada en Python que te ayuda a mantener un control sobre la calidad de tus datos. Ofrece una solución completa para probar y documentar tus datos, de modo que nadie tenga sorpresas al utilizarlos. Para lograr esto, creas suites de expectativas. Puedes pensar en ellas como pruebas unitarias, pero para datos. También sirven como documentación para tu conjunto de datos, para que no tengas que repetirte.\n",
        "\n",
        "¿A qué nos referimos con calidad de datos? Bueno, los datos de mala calidad pueden ocurrir por diferentes razones. Usualmente, los datos tienen mala calidad si su estructura (por ejemplo, las columnas y sus tipos en una tabla) o su contenido (celdas específicas en una tabla) no son lo que esperabas.\n",
        "\n",
        "Para más información sobre Great Expectations y los problemas que resuelve, podemos recomendar el blogpost de los autores: [Down with Pipeline debt / Introducing Great Expectations](https://medium.com/@expectgreatdata/down-with-pipeline-debt-introducing-great-expectations-862ddc46782a). ¡Es una buena lectura!"
      ]
    },
    {
      "cell_type": "markdown",
      "source": [
        "## ¿Qué es exactamente Great Expectations?\n",
        "\n",
        "<img src='https://github.com/datarootsio/tutorial-great-expectations/blob/main/figures/in_out.png?raw=1' width=800px>\n",
        "\n",
        "Great Expectations se puede utilizar con sus activos de datos existentes - es capaz de utilizar diferentes backends como bases de datos SQL, clusters Spark, o simplemente su viejo sistema de archivos. Ejecutará sus conjuntos de expectativas en estos backends y generará informes sobre los resultados de su validación.\n",
        "\n",
        "Escribir tu suite de expectativas se hace normalmente a través de cuadernos Jupyter, así que te sentirás como en casa. Este cuaderno sería un ejemplo de cómo funciona."
      ],
      "metadata": {
        "id": "Qzqu19AX_IbJ"
      }
    },
    {
      "cell_type": "markdown",
      "source": [
        "\n",
        "## En este tutorial\n",
        "Te daremos una breve introducción a los conceptos principales utilizados en Great Expectations, guiándote en la escritura de tus primeras expectativas y generando tu primer informe de datos. Hemos añadido muchas referencias a la documentación oficial que puedes consultar cuando estés configurando tu propio entorno.\n",
        "\n",
        "Contenidos:\n",
        "* [Comenzando](#section-getting-started)\n",
        "* [La Suite de Expectativas](#section-expectation-suite)\n",
        "* [Documentos de Datos](#section-data-docs)\n",
        "* [Contexto de Datos](#section-data-context)\n",
        "* [Puntos de Control](#section-checkpoints)\n",
        "* [Perfilado de Datos](#section-profiling)\n",
        "* [La CLI de Great Expectations](#section-cli)\n",
        "* [Configurando tu propio proyecto](#section-setup)"
      ],
      "metadata": {
        "id": "LF2G5F68_UJ7"
      }
    },
    {
      "cell_type": "markdown",
      "metadata": {
        "id": "uJceSMtiunG9"
      },
      "source": [
        "## Ejecución en Google Colab\n",
        "Si estás ejecutando esto en Google Colab, asegúrate de ejecutar la celda a continuación para configurar todo."
      ]
    },
    {
      "cell_type": "code",
      "execution_count": null,
      "metadata": {
        "id": "GnTJC63GunG9"
      },
      "outputs": [],
      "source": [
        "%%bash\n",
        "if [[ ! -d great_expectations ]]\n",
        "then\n",
        "  git init\n",
        "  git remote add origin https://github.com/datarootsio/tutorial-great-expectations.git\n",
        "  git pull origin main\n",
        "  apt-get install tree\n",
        "  mkdir -p great_expectations/checkpoints\n",
        "fi"
      ]
    },
    {
      "cell_type": "code",
      "source": [
        "!pip install great_expectations==\"0.15.18\""
      ],
      "metadata": {
        "colab": {
          "base_uri": "https://localhost:8080/"
        },
        "id": "NjGJ_yPZGNSm",
        "outputId": "de99c3de-259c-4558-c17a-2790fd5f6b2b"
      },
      "execution_count": null,
      "outputs": [
        {
          "output_type": "stream",
          "name": "stdout",
          "text": [
            "Requirement already satisfied: great_expectations==0.15.18 in /usr/local/lib/python3.10/dist-packages (0.15.18)\n",
            "Requirement already satisfied: altair<5,>=4.0.0 in /usr/local/lib/python3.10/dist-packages (from great_expectations==0.15.18) (4.2.2)\n",
            "Requirement already satisfied: Click>=7.1.2 in /usr/local/lib/python3.10/dist-packages (from great_expectations==0.15.18) (8.1.7)\n",
            "Requirement already satisfied: colorama>=0.4.3 in /usr/local/lib/python3.10/dist-packages (from great_expectations==0.15.18) (0.4.6)\n",
            "Requirement already satisfied: cryptography>=3.2 in /usr/local/lib/python3.10/dist-packages (from great_expectations==0.15.18) (42.0.8)\n",
            "Requirement already satisfied: importlib-metadata>=1.7.0 in /usr/local/lib/python3.10/dist-packages (from great_expectations==0.15.18) (8.0.0)\n",
            "Requirement already satisfied: Ipython>=7.16.3 in /usr/local/lib/python3.10/dist-packages (from great_expectations==0.15.18) (7.34.0)\n",
            "Requirement already satisfied: ipywidgets>=7.5.1 in /usr/local/lib/python3.10/dist-packages (from great_expectations==0.15.18) (7.7.1)\n",
            "Requirement already satisfied: jinja2>=2.10 in /usr/local/lib/python3.10/dist-packages (from great_expectations==0.15.18) (3.1.4)\n",
            "Requirement already satisfied: jsonpatch>=1.22 in /usr/local/lib/python3.10/dist-packages (from great_expectations==0.15.18) (1.33)\n",
            "Requirement already satisfied: jsonschema>=2.5.1 in /usr/local/lib/python3.10/dist-packages (from great_expectations==0.15.18) (4.19.2)\n",
            "Requirement already satisfied: makefun<2,>=1.7.0 in /usr/local/lib/python3.10/dist-packages (from great_expectations==0.15.18) (1.15.2)\n",
            "Requirement already satisfied: mistune>=0.8.4 in /usr/local/lib/python3.10/dist-packages (from great_expectations==0.15.18) (0.8.4)\n",
            "Requirement already satisfied: nbformat>=5.0 in /usr/local/lib/python3.10/dist-packages (from great_expectations==0.15.18) (5.10.4)\n",
            "Requirement already satisfied: notebook>=6.4.10 in /usr/local/lib/python3.10/dist-packages (from great_expectations==0.15.18) (6.5.5)\n",
            "Requirement already satisfied: numpy>=1.18.5 in /usr/local/lib/python3.10/dist-packages (from great_expectations==0.15.18) (1.25.2)\n",
            "Requirement already satisfied: packaging in /usr/local/lib/python3.10/dist-packages (from great_expectations==0.15.18) (24.1)\n",
            "Requirement already satisfied: pandas>=1.1.0 in /usr/local/lib/python3.10/dist-packages (from great_expectations==0.15.18) (2.0.3)\n",
            "Requirement already satisfied: pyparsing<3,>=2.4 in /usr/local/lib/python3.10/dist-packages (from great_expectations==0.15.18) (2.4.7)\n",
            "Requirement already satisfied: python-dateutil>=2.8.1 in /usr/local/lib/python3.10/dist-packages (from great_expectations==0.15.18) (2.8.2)\n",
            "Requirement already satisfied: pytz>=2021.3 in /usr/local/lib/python3.10/dist-packages (from great_expectations==0.15.18) (2023.4)\n",
            "Requirement already satisfied: requests>=2.20 in /usr/local/lib/python3.10/dist-packages (from great_expectations==0.15.18) (2.31.0)\n",
            "Requirement already satisfied: ruamel.yaml<0.17.18,>=0.16 in /usr/local/lib/python3.10/dist-packages (from great_expectations==0.15.18) (0.17.17)\n",
            "Requirement already satisfied: scipy>=0.19.0 in /usr/local/lib/python3.10/dist-packages (from great_expectations==0.15.18) (1.11.4)\n",
            "Requirement already satisfied: termcolor>=1.1.0 in /usr/local/lib/python3.10/dist-packages (from great_expectations==0.15.18) (2.4.0)\n",
            "Requirement already satisfied: tqdm>=4.59.0 in /usr/local/lib/python3.10/dist-packages (from great_expectations==0.15.18) (4.66.4)\n",
            "Requirement already satisfied: typing-extensions>=3.10.0.0 in /usr/local/lib/python3.10/dist-packages (from great_expectations==0.15.18) (4.12.2)\n",
            "Requirement already satisfied: tzlocal>=1.2 in /usr/local/lib/python3.10/dist-packages (from great_expectations==0.15.18) (5.2)\n",
            "Requirement already satisfied: urllib3<1.27,>=1.25.4 in /usr/local/lib/python3.10/dist-packages (from great_expectations==0.15.18) (1.26.19)\n",
            "Requirement already satisfied: entrypoints in /usr/local/lib/python3.10/dist-packages (from altair<5,>=4.0.0->great_expectations==0.15.18) (0.4)\n",
            "Requirement already satisfied: toolz in /usr/local/lib/python3.10/dist-packages (from altair<5,>=4.0.0->great_expectations==0.15.18) (0.12.1)\n",
            "Requirement already satisfied: cffi>=1.12 in /usr/local/lib/python3.10/dist-packages (from cryptography>=3.2->great_expectations==0.15.18) (1.16.0)\n",
            "Requirement already satisfied: zipp>=0.5 in /usr/local/lib/python3.10/dist-packages (from importlib-metadata>=1.7.0->great_expectations==0.15.18) (3.19.2)\n",
            "Requirement already satisfied: setuptools>=18.5 in /usr/local/lib/python3.10/dist-packages (from Ipython>=7.16.3->great_expectations==0.15.18) (67.7.2)\n",
            "Requirement already satisfied: jedi>=0.16 in /usr/local/lib/python3.10/dist-packages (from Ipython>=7.16.3->great_expectations==0.15.18) (0.19.1)\n",
            "Requirement already satisfied: decorator in /usr/local/lib/python3.10/dist-packages (from Ipython>=7.16.3->great_expectations==0.15.18) (4.4.2)\n",
            "Requirement already satisfied: pickleshare in /usr/local/lib/python3.10/dist-packages (from Ipython>=7.16.3->great_expectations==0.15.18) (0.7.5)\n",
            "Requirement already satisfied: traitlets>=4.2 in /usr/local/lib/python3.10/dist-packages (from Ipython>=7.16.3->great_expectations==0.15.18) (5.7.1)\n",
            "Requirement already satisfied: prompt-toolkit!=3.0.0,!=3.0.1,<3.1.0,>=2.0.0 in /usr/local/lib/python3.10/dist-packages (from Ipython>=7.16.3->great_expectations==0.15.18) (3.0.47)\n",
            "Requirement already satisfied: pygments in /usr/local/lib/python3.10/dist-packages (from Ipython>=7.16.3->great_expectations==0.15.18) (2.16.1)\n",
            "Requirement already satisfied: backcall in /usr/local/lib/python3.10/dist-packages (from Ipython>=7.16.3->great_expectations==0.15.18) (0.2.0)\n",
            "Requirement already satisfied: matplotlib-inline in /usr/local/lib/python3.10/dist-packages (from Ipython>=7.16.3->great_expectations==0.15.18) (0.1.7)\n",
            "Requirement already satisfied: pexpect>4.3 in /usr/local/lib/python3.10/dist-packages (from Ipython>=7.16.3->great_expectations==0.15.18) (4.9.0)\n",
            "Requirement already satisfied: ipykernel>=4.5.1 in /usr/local/lib/python3.10/dist-packages (from ipywidgets>=7.5.1->great_expectations==0.15.18) (5.5.6)\n",
            "Requirement already satisfied: ipython-genutils~=0.2.0 in /usr/local/lib/python3.10/dist-packages (from ipywidgets>=7.5.1->great_expectations==0.15.18) (0.2.0)\n",
            "Requirement already satisfied: widgetsnbextension~=3.6.0 in /usr/local/lib/python3.10/dist-packages (from ipywidgets>=7.5.1->great_expectations==0.15.18) (3.6.6)\n",
            "Requirement already satisfied: jupyterlab-widgets>=1.0.0 in /usr/local/lib/python3.10/dist-packages (from ipywidgets>=7.5.1->great_expectations==0.15.18) (3.0.11)\n",
            "Requirement already satisfied: MarkupSafe>=2.0 in /usr/local/lib/python3.10/dist-packages (from jinja2>=2.10->great_expectations==0.15.18) (2.1.5)\n",
            "Requirement already satisfied: jsonpointer>=1.9 in /usr/local/lib/python3.10/dist-packages (from jsonpatch>=1.22->great_expectations==0.15.18) (3.0.0)\n",
            "Requirement already satisfied: attrs>=22.2.0 in /usr/local/lib/python3.10/dist-packages (from jsonschema>=2.5.1->great_expectations==0.15.18) (23.2.0)\n",
            "Requirement already satisfied: jsonschema-specifications>=2023.03.6 in /usr/local/lib/python3.10/dist-packages (from jsonschema>=2.5.1->great_expectations==0.15.18) (2023.12.1)\n",
            "Requirement already satisfied: referencing>=0.28.4 in /usr/local/lib/python3.10/dist-packages (from jsonschema>=2.5.1->great_expectations==0.15.18) (0.35.1)\n",
            "Requirement already satisfied: rpds-py>=0.7.1 in /usr/local/lib/python3.10/dist-packages (from jsonschema>=2.5.1->great_expectations==0.15.18) (0.18.1)\n",
            "Requirement already satisfied: fastjsonschema>=2.15 in /usr/local/lib/python3.10/dist-packages (from nbformat>=5.0->great_expectations==0.15.18) (2.20.0)\n",
            "Requirement already satisfied: jupyter-core!=5.0.*,>=4.12 in /usr/local/lib/python3.10/dist-packages (from nbformat>=5.0->great_expectations==0.15.18) (5.7.2)\n",
            "Requirement already satisfied: tornado>=6.1 in /usr/local/lib/python3.10/dist-packages (from notebook>=6.4.10->great_expectations==0.15.18) (6.3.3)\n",
            "Requirement already satisfied: pyzmq<25,>=17 in /usr/local/lib/python3.10/dist-packages (from notebook>=6.4.10->great_expectations==0.15.18) (24.0.1)\n",
            "Requirement already satisfied: argon2-cffi in /usr/local/lib/python3.10/dist-packages (from notebook>=6.4.10->great_expectations==0.15.18) (23.1.0)\n",
            "Requirement already satisfied: jupyter-client<8,>=5.3.4 in /usr/local/lib/python3.10/dist-packages (from notebook>=6.4.10->great_expectations==0.15.18) (6.1.12)\n",
            "Requirement already satisfied: nbconvert>=5 in /usr/local/lib/python3.10/dist-packages (from notebook>=6.4.10->great_expectations==0.15.18) (6.5.4)\n",
            "Requirement already satisfied: nest-asyncio>=1.5 in /usr/local/lib/python3.10/dist-packages (from notebook>=6.4.10->great_expectations==0.15.18) (1.6.0)\n",
            "Requirement already satisfied: Send2Trash>=1.8.0 in /usr/local/lib/python3.10/dist-packages (from notebook>=6.4.10->great_expectations==0.15.18) (1.8.3)\n",
            "Requirement already satisfied: terminado>=0.8.3 in /usr/local/lib/python3.10/dist-packages (from notebook>=6.4.10->great_expectations==0.15.18) (0.18.1)\n",
            "Requirement already satisfied: prometheus-client in /usr/local/lib/python3.10/dist-packages (from notebook>=6.4.10->great_expectations==0.15.18) (0.20.0)\n",
            "Requirement already satisfied: nbclassic>=0.4.7 in /usr/local/lib/python3.10/dist-packages (from notebook>=6.4.10->great_expectations==0.15.18) (1.1.0)\n",
            "Requirement already satisfied: tzdata>=2022.1 in /usr/local/lib/python3.10/dist-packages (from pandas>=1.1.0->great_expectations==0.15.18) (2024.1)\n",
            "Requirement already satisfied: six>=1.5 in /usr/local/lib/python3.10/dist-packages (from python-dateutil>=2.8.1->great_expectations==0.15.18) (1.16.0)\n",
            "Requirement already satisfied: charset-normalizer<4,>=2 in /usr/local/lib/python3.10/dist-packages (from requests>=2.20->great_expectations==0.15.18) (3.3.2)\n",
            "Requirement already satisfied: idna<4,>=2.5 in /usr/local/lib/python3.10/dist-packages (from requests>=2.20->great_expectations==0.15.18) (3.7)\n",
            "Requirement already satisfied: certifi>=2017.4.17 in /usr/local/lib/python3.10/dist-packages (from requests>=2.20->great_expectations==0.15.18) (2024.6.2)\n",
            "Requirement already satisfied: pycparser in /usr/local/lib/python3.10/dist-packages (from cffi>=1.12->cryptography>=3.2->great_expectations==0.15.18) (2.22)\n",
            "Requirement already satisfied: parso<0.9.0,>=0.8.3 in /usr/local/lib/python3.10/dist-packages (from jedi>=0.16->Ipython>=7.16.3->great_expectations==0.15.18) (0.8.4)\n",
            "Requirement already satisfied: platformdirs>=2.5 in /usr/local/lib/python3.10/dist-packages (from jupyter-core!=5.0.*,>=4.12->nbformat>=5.0->great_expectations==0.15.18) (4.2.2)\n",
            "Requirement already satisfied: notebook-shim>=0.2.3 in /usr/local/lib/python3.10/dist-packages (from nbclassic>=0.4.7->notebook>=6.4.10->great_expectations==0.15.18) (0.2.4)\n",
            "Requirement already satisfied: lxml in /usr/local/lib/python3.10/dist-packages (from nbconvert>=5->notebook>=6.4.10->great_expectations==0.15.18) (4.9.4)\n",
            "Requirement already satisfied: beautifulsoup4 in /usr/local/lib/python3.10/dist-packages (from nbconvert>=5->notebook>=6.4.10->great_expectations==0.15.18) (4.12.3)\n",
            "Requirement already satisfied: bleach in /usr/local/lib/python3.10/dist-packages (from nbconvert>=5->notebook>=6.4.10->great_expectations==0.15.18) (6.1.0)\n",
            "Requirement already satisfied: defusedxml in /usr/local/lib/python3.10/dist-packages (from nbconvert>=5->notebook>=6.4.10->great_expectations==0.15.18) (0.7.1)\n",
            "Requirement already satisfied: jupyterlab-pygments in /usr/local/lib/python3.10/dist-packages (from nbconvert>=5->notebook>=6.4.10->great_expectations==0.15.18) (0.3.0)\n",
            "Requirement already satisfied: nbclient>=0.5.0 in /usr/local/lib/python3.10/dist-packages (from nbconvert>=5->notebook>=6.4.10->great_expectations==0.15.18) (0.10.0)\n",
            "Requirement already satisfied: pandocfilters>=1.4.1 in /usr/local/lib/python3.10/dist-packages (from nbconvert>=5->notebook>=6.4.10->great_expectations==0.15.18) (1.5.1)\n",
            "Requirement already satisfied: tinycss2 in /usr/local/lib/python3.10/dist-packages (from nbconvert>=5->notebook>=6.4.10->great_expectations==0.15.18) (1.3.0)\n",
            "Requirement already satisfied: ptyprocess>=0.5 in /usr/local/lib/python3.10/dist-packages (from pexpect>4.3->Ipython>=7.16.3->great_expectations==0.15.18) (0.7.0)\n",
            "Requirement already satisfied: wcwidth in /usr/local/lib/python3.10/dist-packages (from prompt-toolkit!=3.0.0,!=3.0.1,<3.1.0,>=2.0.0->Ipython>=7.16.3->great_expectations==0.15.18) (0.2.13)\n",
            "Requirement already satisfied: argon2-cffi-bindings in /usr/local/lib/python3.10/dist-packages (from argon2-cffi->notebook>=6.4.10->great_expectations==0.15.18) (21.2.0)\n",
            "Requirement already satisfied: jupyter-server<3,>=1.8 in /usr/local/lib/python3.10/dist-packages (from notebook-shim>=0.2.3->nbclassic>=0.4.7->notebook>=6.4.10->great_expectations==0.15.18) (1.24.0)\n",
            "Requirement already satisfied: soupsieve>1.2 in /usr/local/lib/python3.10/dist-packages (from beautifulsoup4->nbconvert>=5->notebook>=6.4.10->great_expectations==0.15.18) (2.5)\n",
            "Requirement already satisfied: webencodings in /usr/local/lib/python3.10/dist-packages (from bleach->nbconvert>=5->notebook>=6.4.10->great_expectations==0.15.18) (0.5.1)\n",
            "Requirement already satisfied: anyio<4,>=3.1.0 in /usr/local/lib/python3.10/dist-packages (from jupyter-server<3,>=1.8->notebook-shim>=0.2.3->nbclassic>=0.4.7->notebook>=6.4.10->great_expectations==0.15.18) (3.7.1)\n",
            "Requirement already satisfied: websocket-client in /usr/local/lib/python3.10/dist-packages (from jupyter-server<3,>=1.8->notebook-shim>=0.2.3->nbclassic>=0.4.7->notebook>=6.4.10->great_expectations==0.15.18) (1.8.0)\n",
            "Requirement already satisfied: sniffio>=1.1 in /usr/local/lib/python3.10/dist-packages (from anyio<4,>=3.1.0->jupyter-server<3,>=1.8->notebook-shim>=0.2.3->nbclassic>=0.4.7->notebook>=6.4.10->great_expectations==0.15.18) (1.3.1)\n",
            "Requirement already satisfied: exceptiongroup in /usr/local/lib/python3.10/dist-packages (from anyio<4,>=3.1.0->jupyter-server<3,>=1.8->notebook-shim>=0.2.3->nbclassic>=0.4.7->notebook>=6.4.10->great_expectations==0.15.18) (1.2.1)\n"
          ]
        }
      ]
    },
    {
      "cell_type": "markdown",
      "metadata": {
        "id": "FNyOuZq-unG-"
      },
      "source": [
        "## Getting started"
      ]
    },
    {
      "cell_type": "markdown",
      "metadata": {
        "id": "GMyTqK3eunG-"
      },
      "source": [
        "¡Entonces, comencemos!"
      ]
    },
    {
      "cell_type": "code",
      "execution_count": null,
      "metadata": {
        "id": "_XaJK8ilunG-"
      },
      "outputs": [],
      "source": [
        "import great_expectations as ge"
      ]
    },
    {
      "cell_type": "markdown",
      "metadata": {
        "id": "jSnEQuHMunG-"
      },
      "source": [
        "Primero necesitaremos un `DataContext`. Esto representa un proyecto de Great Expectations, conteniendo todas tus configuraciones, suites de expectativas, fuentes de datos, etc. Examinaremos más detenidamente el contexto de datos más adelante [Contexto de Datos](#section-data-context), pero solo para comenzar, hemos incluido uno simple con este tutorial.\n",
        "\n",
        "Vamos a cargar ese ahora mismo. Por defecto, Great Expectations buscará tu configuración en el directorio `great_expectations`."
      ]
    },
    {
      "cell_type": "code",
      "execution_count": null,
      "metadata": {
        "id": "qVmkdSq7unG-",
        "colab": {
          "base_uri": "https://localhost:8080/"
        },
        "outputId": "bae6bc56-bed5-4225-c216-d41986ef2ee8"
      },
      "outputs": [
        {
          "output_type": "stream",
          "name": "stderr",
          "text": [
            "/usr/local/lib/python3.10/dist-packages/ipykernel/ipkernel.py:283: DeprecationWarning: `should_run_async` will not call `transform_cell` automatically in the future. Please pass the result to `transformed_cell` argument and any exception that happen during thetransform in `preprocessing_exc_tuple` in IPython 7.17 and above.\n",
            "  and should_run_async(code)\n"
          ]
        }
      ],
      "source": [
        "context = ge.data_context.DataContext()"
      ]
    },
    {
      "cell_type": "markdown",
      "metadata": {
        "id": "C2XMpUPsunG-"
      },
      "source": [
        "Ahora que tenemos nuestro `DataContext` listo, podemos añadir una suite de expectativas. Piensa en esto como una suite de pruebas, pero para tus datos en lugar de para tu código. Normalmente harías esto a través de la CLI, pero hablaremos de eso más adelante [La CLI de Great Expectations]. Nombraremos la suite `check_avocado_data`.\n",
        "\n",
        "\n",
        "\n",
        "\n",
        "\n",
        "\n"
      ]
    },
    {
      "cell_type": "code",
      "execution_count": null,
      "metadata": {
        "id": "964ScdtRunG-"
      },
      "outputs": [],
      "source": [
        "suite = context.create_expectation_suite(\n",
        "    'check_avocado_data',\n",
        "    overwrite_existing=True\n",
        ")"
      ]
    },
    {
      "cell_type": "markdown",
      "metadata": {
        "id": "OIuau6cXunG-"
      },
      "source": [
        "A continuación, cargamos nuestro conjunto de datos, `avocado.csv`, desde nuestro contexto de datos. Esto implica un poco de configuración, pero no te preocupes demasiado por ahora. Volveremos a eso más tarde [Contexto de Datos](#section-data-context).\n",
        "\n",
        "\n",
        "\n",
        "\n",
        "\n",
        "\n"
      ]
    },
    {
      "cell_type": "code",
      "execution_count": null,
      "metadata": {
        "id": "5Nz9aiQ_unG-"
      },
      "outputs": [],
      "source": [
        "batch_kwargs = {\n",
        "    'path': 'data/avocado.csv',\n",
        "    'datasource': 'data_dir',\n",
        "    'data_asset_name': 'avocado',\n",
        "    'reader_method': 'read_csv',\n",
        "    'reader_options': {\n",
        "        'index_col': 0,\n",
        "    }\n",
        "}\n",
        "batch = context.get_batch(batch_kwargs, suite)"
      ]
    },
    {
      "cell_type": "markdown",
      "metadata": {
        "id": "tjiC1XpUunG-"
      },
      "source": [
        "¡Perfecto, eso es todo para la configuración!\n",
        "\n",
        "Continuemos con nuestros datos de ventas de aguacate."
      ]
    },
    {
      "cell_type": "code",
      "execution_count": null,
      "metadata": {
        "id": "s1BU3IB1unG_",
        "outputId": "2650a592-a018-4144-9f66-c5af78f0a41d",
        "colab": {
          "base_uri": "https://localhost:8080/",
          "height": 261
        }
      },
      "outputs": [
        {
          "output_type": "stream",
          "name": "stderr",
          "text": [
            "/usr/local/lib/python3.10/dist-packages/ipykernel/ipkernel.py:283: DeprecationWarning: `should_run_async` will not call `transform_cell` automatically in the future. Please pass the result to `transformed_cell` argument and any exception that happen during thetransform in `preprocessing_exc_tuple` in IPython 7.17 and above.\n",
            "  and should_run_async(code)\n"
          ]
        },
        {
          "output_type": "execute_result",
          "data": {
            "text/plain": [
              "         Date  AveragePrice  Total Volume     4046       4225    4770  \\\n",
              "0  2015-12-27          1.33      64236.62  1036.74   54454.85   48.16   \n",
              "1  2015-12-20          1.35      54876.98   674.28   44638.81   58.33   \n",
              "2  2015-12-13          0.93     118220.22   794.70  109149.67  130.50   \n",
              "3  2015-12-06          1.08      78992.15  1132.00   71976.41   72.58   \n",
              "4  2015-11-29          1.28      51039.60   941.48   43838.39   75.78   \n",
              "\n",
              "   Total Bags  Small Bags  Large Bags  XLarge Bags          type  year  region  \n",
              "0     8696.87     8603.62       93.25          0.0  conventional  2015  Albany  \n",
              "1     9505.56     9408.07       97.49          0.0  conventional  2015  Albany  \n",
              "2     8145.35     8042.21      103.14          0.0  conventional  2015  Albany  \n",
              "3     5811.16     5677.40      133.76          0.0  conventional  2015  Albany  \n",
              "4     6183.95     5986.26      197.69          0.0  conventional  2015  Albany  "
            ],
            "text/html": [
              "\n",
              "  <div id=\"df-2240ca1f-ece0-4ef6-ac14-7e75b51fa0e6\" class=\"colab-df-container\">\n",
              "    <div>\n",
              "<style scoped>\n",
              "    .dataframe tbody tr th:only-of-type {\n",
              "        vertical-align: middle;\n",
              "    }\n",
              "\n",
              "    .dataframe tbody tr th {\n",
              "        vertical-align: top;\n",
              "    }\n",
              "\n",
              "    .dataframe thead th {\n",
              "        text-align: right;\n",
              "    }\n",
              "</style>\n",
              "<table border=\"1\" class=\"dataframe\">\n",
              "  <thead>\n",
              "    <tr style=\"text-align: right;\">\n",
              "      <th></th>\n",
              "      <th>Date</th>\n",
              "      <th>AveragePrice</th>\n",
              "      <th>Total Volume</th>\n",
              "      <th>4046</th>\n",
              "      <th>4225</th>\n",
              "      <th>4770</th>\n",
              "      <th>Total Bags</th>\n",
              "      <th>Small Bags</th>\n",
              "      <th>Large Bags</th>\n",
              "      <th>XLarge Bags</th>\n",
              "      <th>type</th>\n",
              "      <th>year</th>\n",
              "      <th>region</th>\n",
              "    </tr>\n",
              "  </thead>\n",
              "  <tbody>\n",
              "    <tr>\n",
              "      <th>0</th>\n",
              "      <td>2015-12-27</td>\n",
              "      <td>1.33</td>\n",
              "      <td>64236.62</td>\n",
              "      <td>1036.74</td>\n",
              "      <td>54454.85</td>\n",
              "      <td>48.16</td>\n",
              "      <td>8696.87</td>\n",
              "      <td>8603.62</td>\n",
              "      <td>93.25</td>\n",
              "      <td>0.0</td>\n",
              "      <td>conventional</td>\n",
              "      <td>2015</td>\n",
              "      <td>Albany</td>\n",
              "    </tr>\n",
              "    <tr>\n",
              "      <th>1</th>\n",
              "      <td>2015-12-20</td>\n",
              "      <td>1.35</td>\n",
              "      <td>54876.98</td>\n",
              "      <td>674.28</td>\n",
              "      <td>44638.81</td>\n",
              "      <td>58.33</td>\n",
              "      <td>9505.56</td>\n",
              "      <td>9408.07</td>\n",
              "      <td>97.49</td>\n",
              "      <td>0.0</td>\n",
              "      <td>conventional</td>\n",
              "      <td>2015</td>\n",
              "      <td>Albany</td>\n",
              "    </tr>\n",
              "    <tr>\n",
              "      <th>2</th>\n",
              "      <td>2015-12-13</td>\n",
              "      <td>0.93</td>\n",
              "      <td>118220.22</td>\n",
              "      <td>794.70</td>\n",
              "      <td>109149.67</td>\n",
              "      <td>130.50</td>\n",
              "      <td>8145.35</td>\n",
              "      <td>8042.21</td>\n",
              "      <td>103.14</td>\n",
              "      <td>0.0</td>\n",
              "      <td>conventional</td>\n",
              "      <td>2015</td>\n",
              "      <td>Albany</td>\n",
              "    </tr>\n",
              "    <tr>\n",
              "      <th>3</th>\n",
              "      <td>2015-12-06</td>\n",
              "      <td>1.08</td>\n",
              "      <td>78992.15</td>\n",
              "      <td>1132.00</td>\n",
              "      <td>71976.41</td>\n",
              "      <td>72.58</td>\n",
              "      <td>5811.16</td>\n",
              "      <td>5677.40</td>\n",
              "      <td>133.76</td>\n",
              "      <td>0.0</td>\n",
              "      <td>conventional</td>\n",
              "      <td>2015</td>\n",
              "      <td>Albany</td>\n",
              "    </tr>\n",
              "    <tr>\n",
              "      <th>4</th>\n",
              "      <td>2015-11-29</td>\n",
              "      <td>1.28</td>\n",
              "      <td>51039.60</td>\n",
              "      <td>941.48</td>\n",
              "      <td>43838.39</td>\n",
              "      <td>75.78</td>\n",
              "      <td>6183.95</td>\n",
              "      <td>5986.26</td>\n",
              "      <td>197.69</td>\n",
              "      <td>0.0</td>\n",
              "      <td>conventional</td>\n",
              "      <td>2015</td>\n",
              "      <td>Albany</td>\n",
              "    </tr>\n",
              "  </tbody>\n",
              "</table>\n",
              "</div>\n",
              "    <div class=\"colab-df-buttons\">\n",
              "\n",
              "  <div class=\"colab-df-container\">\n",
              "    <button class=\"colab-df-convert\" onclick=\"convertToInteractive('df-2240ca1f-ece0-4ef6-ac14-7e75b51fa0e6')\"\n",
              "            title=\"Convert this dataframe to an interactive table.\"\n",
              "            style=\"display:none;\">\n",
              "\n",
              "  <svg xmlns=\"http://www.w3.org/2000/svg\" height=\"24px\" viewBox=\"0 -960 960 960\">\n",
              "    <path d=\"M120-120v-720h720v720H120Zm60-500h600v-160H180v160Zm220 220h160v-160H400v160Zm0 220h160v-160H400v160ZM180-400h160v-160H180v160Zm440 0h160v-160H620v160ZM180-180h160v-160H180v160Zm440 0h160v-160H620v160Z\"/>\n",
              "  </svg>\n",
              "    </button>\n",
              "\n",
              "  <style>\n",
              "    .colab-df-container {\n",
              "      display:flex;\n",
              "      gap: 12px;\n",
              "    }\n",
              "\n",
              "    .colab-df-convert {\n",
              "      background-color: #E8F0FE;\n",
              "      border: none;\n",
              "      border-radius: 50%;\n",
              "      cursor: pointer;\n",
              "      display: none;\n",
              "      fill: #1967D2;\n",
              "      height: 32px;\n",
              "      padding: 0 0 0 0;\n",
              "      width: 32px;\n",
              "    }\n",
              "\n",
              "    .colab-df-convert:hover {\n",
              "      background-color: #E2EBFA;\n",
              "      box-shadow: 0px 1px 2px rgba(60, 64, 67, 0.3), 0px 1px 3px 1px rgba(60, 64, 67, 0.15);\n",
              "      fill: #174EA6;\n",
              "    }\n",
              "\n",
              "    .colab-df-buttons div {\n",
              "      margin-bottom: 4px;\n",
              "    }\n",
              "\n",
              "    [theme=dark] .colab-df-convert {\n",
              "      background-color: #3B4455;\n",
              "      fill: #D2E3FC;\n",
              "    }\n",
              "\n",
              "    [theme=dark] .colab-df-convert:hover {\n",
              "      background-color: #434B5C;\n",
              "      box-shadow: 0px 1px 3px 1px rgba(0, 0, 0, 0.15);\n",
              "      filter: drop-shadow(0px 1px 2px rgba(0, 0, 0, 0.3));\n",
              "      fill: #FFFFFF;\n",
              "    }\n",
              "  </style>\n",
              "\n",
              "    <script>\n",
              "      const buttonEl =\n",
              "        document.querySelector('#df-2240ca1f-ece0-4ef6-ac14-7e75b51fa0e6 button.colab-df-convert');\n",
              "      buttonEl.style.display =\n",
              "        google.colab.kernel.accessAllowed ? 'block' : 'none';\n",
              "\n",
              "      async function convertToInteractive(key) {\n",
              "        const element = document.querySelector('#df-2240ca1f-ece0-4ef6-ac14-7e75b51fa0e6');\n",
              "        const dataTable =\n",
              "          await google.colab.kernel.invokeFunction('convertToInteractive',\n",
              "                                                    [key], {});\n",
              "        if (!dataTable) return;\n",
              "\n",
              "        const docLinkHtml = 'Like what you see? Visit the ' +\n",
              "          '<a target=\"_blank\" href=https://colab.research.google.com/notebooks/data_table.ipynb>data table notebook</a>'\n",
              "          + ' to learn more about interactive tables.';\n",
              "        element.innerHTML = '';\n",
              "        dataTable['output_type'] = 'display_data';\n",
              "        await google.colab.output.renderOutput(dataTable, element);\n",
              "        const docLink = document.createElement('div');\n",
              "        docLink.innerHTML = docLinkHtml;\n",
              "        element.appendChild(docLink);\n",
              "      }\n",
              "    </script>\n",
              "  </div>\n",
              "\n",
              "\n",
              "<div id=\"df-079695f2-ede6-46ff-9881-7c8533ce02f1\">\n",
              "  <button class=\"colab-df-quickchart\" onclick=\"quickchart('df-079695f2-ede6-46ff-9881-7c8533ce02f1')\"\n",
              "            title=\"Suggest charts\"\n",
              "            style=\"display:none;\">\n",
              "\n",
              "<svg xmlns=\"http://www.w3.org/2000/svg\" height=\"24px\"viewBox=\"0 0 24 24\"\n",
              "     width=\"24px\">\n",
              "    <g>\n",
              "        <path d=\"M19 3H5c-1.1 0-2 .9-2 2v14c0 1.1.9 2 2 2h14c1.1 0 2-.9 2-2V5c0-1.1-.9-2-2-2zM9 17H7v-7h2v7zm4 0h-2V7h2v10zm4 0h-2v-4h2v4z\"/>\n",
              "    </g>\n",
              "</svg>\n",
              "  </button>\n",
              "\n",
              "<style>\n",
              "  .colab-df-quickchart {\n",
              "      --bg-color: #E8F0FE;\n",
              "      --fill-color: #1967D2;\n",
              "      --hover-bg-color: #E2EBFA;\n",
              "      --hover-fill-color: #174EA6;\n",
              "      --disabled-fill-color: #AAA;\n",
              "      --disabled-bg-color: #DDD;\n",
              "  }\n",
              "\n",
              "  [theme=dark] .colab-df-quickchart {\n",
              "      --bg-color: #3B4455;\n",
              "      --fill-color: #D2E3FC;\n",
              "      --hover-bg-color: #434B5C;\n",
              "      --hover-fill-color: #FFFFFF;\n",
              "      --disabled-bg-color: #3B4455;\n",
              "      --disabled-fill-color: #666;\n",
              "  }\n",
              "\n",
              "  .colab-df-quickchart {\n",
              "    background-color: var(--bg-color);\n",
              "    border: none;\n",
              "    border-radius: 50%;\n",
              "    cursor: pointer;\n",
              "    display: none;\n",
              "    fill: var(--fill-color);\n",
              "    height: 32px;\n",
              "    padding: 0;\n",
              "    width: 32px;\n",
              "  }\n",
              "\n",
              "  .colab-df-quickchart:hover {\n",
              "    background-color: var(--hover-bg-color);\n",
              "    box-shadow: 0 1px 2px rgba(60, 64, 67, 0.3), 0 1px 3px 1px rgba(60, 64, 67, 0.15);\n",
              "    fill: var(--button-hover-fill-color);\n",
              "  }\n",
              "\n",
              "  .colab-df-quickchart-complete:disabled,\n",
              "  .colab-df-quickchart-complete:disabled:hover {\n",
              "    background-color: var(--disabled-bg-color);\n",
              "    fill: var(--disabled-fill-color);\n",
              "    box-shadow: none;\n",
              "  }\n",
              "\n",
              "  .colab-df-spinner {\n",
              "    border: 2px solid var(--fill-color);\n",
              "    border-color: transparent;\n",
              "    border-bottom-color: var(--fill-color);\n",
              "    animation:\n",
              "      spin 1s steps(1) infinite;\n",
              "  }\n",
              "\n",
              "  @keyframes spin {\n",
              "    0% {\n",
              "      border-color: transparent;\n",
              "      border-bottom-color: var(--fill-color);\n",
              "      border-left-color: var(--fill-color);\n",
              "    }\n",
              "    20% {\n",
              "      border-color: transparent;\n",
              "      border-left-color: var(--fill-color);\n",
              "      border-top-color: var(--fill-color);\n",
              "    }\n",
              "    30% {\n",
              "      border-color: transparent;\n",
              "      border-left-color: var(--fill-color);\n",
              "      border-top-color: var(--fill-color);\n",
              "      border-right-color: var(--fill-color);\n",
              "    }\n",
              "    40% {\n",
              "      border-color: transparent;\n",
              "      border-right-color: var(--fill-color);\n",
              "      border-top-color: var(--fill-color);\n",
              "    }\n",
              "    60% {\n",
              "      border-color: transparent;\n",
              "      border-right-color: var(--fill-color);\n",
              "    }\n",
              "    80% {\n",
              "      border-color: transparent;\n",
              "      border-right-color: var(--fill-color);\n",
              "      border-bottom-color: var(--fill-color);\n",
              "    }\n",
              "    90% {\n",
              "      border-color: transparent;\n",
              "      border-bottom-color: var(--fill-color);\n",
              "    }\n",
              "  }\n",
              "</style>\n",
              "\n",
              "  <script>\n",
              "    async function quickchart(key) {\n",
              "      const quickchartButtonEl =\n",
              "        document.querySelector('#' + key + ' button');\n",
              "      quickchartButtonEl.disabled = true;  // To prevent multiple clicks.\n",
              "      quickchartButtonEl.classList.add('colab-df-spinner');\n",
              "      try {\n",
              "        const charts = await google.colab.kernel.invokeFunction(\n",
              "            'suggestCharts', [key], {});\n",
              "      } catch (error) {\n",
              "        console.error('Error during call to suggestCharts:', error);\n",
              "      }\n",
              "      quickchartButtonEl.classList.remove('colab-df-spinner');\n",
              "      quickchartButtonEl.classList.add('colab-df-quickchart-complete');\n",
              "    }\n",
              "    (() => {\n",
              "      let quickchartButtonEl =\n",
              "        document.querySelector('#df-079695f2-ede6-46ff-9881-7c8533ce02f1 button');\n",
              "      quickchartButtonEl.style.display =\n",
              "        google.colab.kernel.accessAllowed ? 'block' : 'none';\n",
              "    })();\n",
              "  </script>\n",
              "</div>\n",
              "\n",
              "    </div>\n",
              "  </div>\n"
            ],
            "application/vnd.google.colaboratory.intrinsic+json": {
              "type": "dataframe",
              "variable_name": "batch",
              "summary": "{\n  \"name\": \"batch\",\n  \"rows\": 18249,\n  \"fields\": [\n    {\n      \"column\": \"Date\",\n      \"properties\": {\n        \"dtype\": \"date\",\n        \"min\": \"2015-01-04\",\n        \"max\": \"2018-03-25\",\n        \"num_unique_values\": 169,\n        \"samples\": [\n          \"2017-05-07\",\n          \"2015-05-31\",\n          \"2017-09-17\"\n        ],\n        \"semantic_type\": \"\",\n        \"description\": \"\"\n      }\n    },\n    {\n      \"column\": \"AveragePrice\",\n      \"properties\": {\n        \"dtype\": \"number\",\n        \"std\": 0.40267655549555065,\n        \"min\": 0.44,\n        \"max\": 3.25,\n        \"num_unique_values\": 259,\n        \"samples\": [\n          0.88,\n          0.91,\n          1.07\n        ],\n        \"semantic_type\": \"\",\n        \"description\": \"\"\n      }\n    },\n    {\n      \"column\": \"Total Volume\",\n      \"properties\": {\n        \"dtype\": \"number\",\n        \"std\": 3453545.3553994712,\n        \"min\": 84.56,\n        \"max\": 62505646.52,\n        \"num_unique_values\": 18237,\n        \"samples\": [\n          9783.93,\n          2604991.25,\n          277267.97\n        ],\n        \"semantic_type\": \"\",\n        \"description\": \"\"\n      }\n    },\n    {\n      \"column\": \"4046\",\n      \"properties\": {\n        \"dtype\": \"number\",\n        \"std\": 1264989.0817627772,\n        \"min\": 0.0,\n        \"max\": 22743616.17,\n        \"num_unique_values\": 17702,\n        \"samples\": [\n          97.29,\n          97139.95,\n          6339.49\n        ],\n        \"semantic_type\": \"\",\n        \"description\": \"\"\n      }\n    },\n    {\n      \"column\": \"4225\",\n      \"properties\": {\n        \"dtype\": \"number\",\n        \"std\": 1204120.4011350507,\n        \"min\": 0.0,\n        \"max\": 20470572.61,\n        \"num_unique_values\": 18103,\n        \"samples\": [\n          11096.86,\n          22648.55,\n          87497.9\n        ],\n        \"semantic_type\": \"\",\n        \"description\": \"\"\n      }\n    },\n    {\n      \"column\": \"4770\",\n      \"properties\": {\n        \"dtype\": \"number\",\n        \"std\": 107464.06843537073,\n        \"min\": 0.0,\n        \"max\": 2546439.11,\n        \"num_unique_values\": 12071,\n        \"samples\": [\n          74.0,\n          1875.51,\n          202.18\n        ],\n        \"semantic_type\": \"\",\n        \"description\": \"\"\n      }\n    },\n    {\n      \"column\": \"Total Bags\",\n      \"properties\": {\n        \"dtype\": \"number\",\n        \"std\": 986242.3992164118,\n        \"min\": 0.0,\n        \"max\": 19373134.37,\n        \"num_unique_values\": 18097,\n        \"samples\": [\n          63800.09,\n          12938.12,\n          912891.54\n        ],\n        \"semantic_type\": \"\",\n        \"description\": \"\"\n      }\n    },\n    {\n      \"column\": \"Small Bags\",\n      \"properties\": {\n        \"dtype\": \"number\",\n        \"std\": 746178.5149617889,\n        \"min\": 0.0,\n        \"max\": 13384586.8,\n        \"num_unique_values\": 17321,\n        \"samples\": [\n          41688.75,\n          118293.26,\n          93488.63\n        ],\n        \"semantic_type\": \"\",\n        \"description\": \"\"\n      }\n    },\n    {\n      \"column\": \"Large Bags\",\n      \"properties\": {\n        \"dtype\": \"number\",\n        \"std\": 243965.96454740883,\n        \"min\": 0.0,\n        \"max\": 5719096.61,\n        \"num_unique_values\": 15082,\n        \"samples\": [\n          5155.3,\n          43900.93,\n          163807.71\n        ],\n        \"semantic_type\": \"\",\n        \"description\": \"\"\n      }\n    },\n    {\n      \"column\": \"XLarge Bags\",\n      \"properties\": {\n        \"dtype\": \"number\",\n        \"std\": 17692.894651916486,\n        \"min\": 0.0,\n        \"max\": 551693.65,\n        \"num_unique_values\": 5588,\n        \"samples\": [\n          527.2,\n          1290.39,\n          7249.07\n        ],\n        \"semantic_type\": \"\",\n        \"description\": \"\"\n      }\n    },\n    {\n      \"column\": \"type\",\n      \"properties\": {\n        \"dtype\": \"category\",\n        \"num_unique_values\": 2,\n        \"samples\": [\n          \"organic\",\n          \"conventional\"\n        ],\n        \"semantic_type\": \"\",\n        \"description\": \"\"\n      }\n    },\n    {\n      \"column\": \"year\",\n      \"properties\": {\n        \"dtype\": \"number\",\n        \"std\": 0,\n        \"min\": 2015,\n        \"max\": 2018,\n        \"num_unique_values\": 4,\n        \"samples\": [\n          2016,\n          2018\n        ],\n        \"semantic_type\": \"\",\n        \"description\": \"\"\n      }\n    },\n    {\n      \"column\": \"region\",\n      \"properties\": {\n        \"dtype\": \"category\",\n        \"num_unique_values\": 54,\n        \"samples\": [\n          \"Indianapolis\",\n          \"Syracuse\"\n        ],\n        \"semantic_type\": \"\",\n        \"description\": \"\"\n      }\n    }\n  ]\n}"
            }
          },
          "metadata": {},
          "execution_count": 7
        }
      ],
      "source": [
        "batch.head()"
      ]
    },
    {
      "cell_type": "markdown",
      "metadata": {
        "id": "X4HaQaimunG_"
      },
      "source": [
        "Esta es la documentación que acompaña a los datos:\n",
        "- Date - La fecha de la observación\n",
        "- AveragePrice - el precio promedio de un solo aguacate\n",
        "- type - tipo de agricultura: convencional u orgánica\n",
        "- Region - la ciudad o región de la observación\n",
        "- Total Volume - Número total de aguacates vendidos\n",
        "- 4046 - Número total de aguacates con PLU 4046 vendidos (Hass pequeño)\n",
        "- 4225 - Número total de aguacates con PLU 4225 vendidos (Hass grande)\n",
        "- 4770 - Número total de aguacates con PLU 4770 vendidos (Hass extra grande)\n",
        "\n",
        "Estas descripciones definitivamente nos ayudan a entender un poco mejor el conjunto de datos, pero no proporcionan muchas garantías. Al consumir este conjunto de datos, ¿qué expectativas podemos tener? ¿El campo `region` siempre estará especificado? ¿El campo `Date` siempre estará en el mismo formato? Esos conteos de ventas, ¿se supone que deben sumar?\n",
        "\n",
        "Great Expectations nos ayuda a codificar estas propiedades en un conjunto de `Expectations`. Una Expectativa (`Expectation`) es, bueno, algo que esperas que sea cierto en tus datos. Nuevamente, piénsalo como una prueba unitaria para tu conjunto de datos.\n",
        "\n",
        "Comencemos con una `Expectation` básica. Queremos verificar si nuestra expectativa de que la columna `Date` está presente se cumple."
      ]
    },
    {
      "cell_type": "code",
      "execution_count": null,
      "metadata": {
        "id": "iB--rKXeunG_",
        "outputId": "a8c81084-c019-4361-d15f-1d786154e721",
        "colab": {
          "base_uri": "https://localhost:8080/"
        }
      },
      "outputs": [
        {
          "output_type": "stream",
          "name": "stderr",
          "text": [
            "/usr/local/lib/python3.10/dist-packages/ipykernel/ipkernel.py:283: DeprecationWarning: `should_run_async` will not call `transform_cell` automatically in the future. Please pass the result to `transformed_cell` argument and any exception that happen during thetransform in `preprocessing_exc_tuple` in IPython 7.17 and above.\n",
            "  and should_run_async(code)\n"
          ]
        },
        {
          "output_type": "execute_result",
          "data": {
            "text/plain": [
              "{\n",
              "  \"expectation_config\": {\n",
              "    \"expectation_type\": \"expect_column_to_exist\",\n",
              "    \"kwargs\": {\n",
              "      \"column\": \"Date\",\n",
              "      \"result_format\": \"BASIC\"\n",
              "    },\n",
              "    \"meta\": {}\n",
              "  },\n",
              "  \"exception_info\": {\n",
              "    \"raised_exception\": false,\n",
              "    \"exception_traceback\": null,\n",
              "    \"exception_message\": null\n",
              "  },\n",
              "  \"result\": {},\n",
              "  \"meta\": {},\n",
              "  \"success\": true\n",
              "}"
            ]
          },
          "metadata": {},
          "execution_count": 8
        }
      ],
      "source": [
        "batch.expect_column_to_exist('Date')"
      ]
    },
    {
      "cell_type": "markdown",
      "metadata": {
        "id": "b-Db4DFEunG_"
      },
      "source": [
        "El `dict` resultante que recibimos podría parecer un poco extraño al principio, pero más adelante verás cómo se usa esta salida para generar informes [[Documentos de Datos]](#section-data-docs). Por ahora, simplemente observa que `success` tiene el valor `true`, ¡indicando que nuestra expectativa se cumplió!\n",
        "\n",
        "\n",
        "\n",
        "\n",
        "\n",
        "\n"
      ]
    },
    {
      "cell_type": "markdown",
      "metadata": {
        "id": "IBrZfr64unG_"
      },
      "source": [
        "Este fue un chequeo simple que solo evalúa la forma de los datos, pero no toca los valores en sí (es un _chequeo a nivel de tabla_ o _table-level check_).\n",
        "\n",
        "Ahora intentemos agregar un chequeo para los valores. Tal vez podamos abordar una de las preocupaciones que planteamos: ¿podemos añadir una `Expectation` que asegure que cada registro tenga su `region` especificada?"
      ]
    },
    {
      "cell_type": "code",
      "execution_count": null,
      "metadata": {
        "id": "ZAftFpegunG_",
        "outputId": "30f588ed-21bc-477a-fecd-9a3283ca1171",
        "colab": {
          "base_uri": "https://localhost:8080/"
        }
      },
      "outputs": [
        {
          "output_type": "execute_result",
          "data": {
            "text/plain": [
              "{\n",
              "  \"expectation_config\": {\n",
              "    \"expectation_type\": \"expect_column_values_to_not_be_null\",\n",
              "    \"kwargs\": {\n",
              "      \"column\": \"region\",\n",
              "      \"result_format\": \"BASIC\"\n",
              "    },\n",
              "    \"meta\": {}\n",
              "  },\n",
              "  \"exception_info\": {\n",
              "    \"raised_exception\": false,\n",
              "    \"exception_traceback\": null,\n",
              "    \"exception_message\": null\n",
              "  },\n",
              "  \"result\": {\n",
              "    \"element_count\": 18249,\n",
              "    \"unexpected_count\": 0,\n",
              "    \"unexpected_percent\": 0.0,\n",
              "    \"unexpected_percent_total\": 0.0,\n",
              "    \"partial_unexpected_list\": []\n",
              "  },\n",
              "  \"meta\": {},\n",
              "  \"success\": true\n",
              "}"
            ]
          },
          "metadata": {},
          "execution_count": 9
        }
      ],
      "source": [
        "batch.expect_column_values_to_not_be_null('region')"
      ]
    },
    {
      "cell_type": "markdown",
      "metadata": {
        "id": "--r5WoI8unG_"
      },
      "source": [
        "¡Funcionó! Esta vez recibimos un poco más de información: la sección `result` ahora contiene algunas métricas sobre nuestros datos. Podemos ver que los 18,249 registros pasaron la verificación y no hubo valores inesperados (es decir, `null`). Si Great Expectations encuentra algún valor problemático, estos serán listados en `partial_unexpected_list`."
      ]
    },
    {
      "cell_type": "markdown",
      "metadata": {
        "id": "cRWLMzReunG_"
      },
      "source": [
        "Now let's do something that's a bit more strict. It would be nice, for example, to make sure that all `region`s are actually strings, so that we don't end up with numeric regions. Note that the type you specify here should match your backend - you can't expect a spark backend to have PostgresQL types. Refer to to see what type name you should use.\n",
        "\n",
        "Ahora hagamos algo un poco más estricto. Sería bueno, por ejemplo, asegurarse de que todas las `region`s sean realmente cadenas de texto, para no terminar con regiones numéricas. Ten en cuenta que el tipo que especifiques aquí debe coincidir con tu backend: no puedes esperar que un backend de Spark tenga tipos de PostgresQL. Consulta [la documentación](https://docs.greatexpectations.io/en/latest/autoapi/great_expectations/expectations/core/expect_column_values_to_be_of_type/index.html) para ver qué nombre de tipo deberías usar."
      ]
    },
    {
      "cell_type": "code",
      "execution_count": null,
      "metadata": {
        "id": "Nn7t0ucOunG_",
        "outputId": "478f045f-c87a-4344-8954-8851eeb30c2f",
        "colab": {
          "base_uri": "https://localhost:8080/"
        }
      },
      "outputs": [
        {
          "output_type": "execute_result",
          "data": {
            "text/plain": [
              "{\n",
              "  \"expectation_config\": {\n",
              "    \"expectation_type\": \"_expect_column_values_to_be_of_type__map\",\n",
              "    \"kwargs\": {\n",
              "      \"column\": \"region\",\n",
              "      \"type_\": \"str\",\n",
              "      \"result_format\": \"BASIC\"\n",
              "    },\n",
              "    \"meta\": {}\n",
              "  },\n",
              "  \"exception_info\": {\n",
              "    \"raised_exception\": false,\n",
              "    \"exception_traceback\": null,\n",
              "    \"exception_message\": null\n",
              "  },\n",
              "  \"result\": {\n",
              "    \"element_count\": 18249,\n",
              "    \"missing_count\": 0,\n",
              "    \"missing_percent\": 0.0,\n",
              "    \"unexpected_count\": 0,\n",
              "    \"unexpected_percent\": 0.0,\n",
              "    \"unexpected_percent_total\": 0.0,\n",
              "    \"unexpected_percent_nonmissing\": 0.0,\n",
              "    \"partial_unexpected_list\": []\n",
              "  },\n",
              "  \"meta\": {},\n",
              "  \"success\": true\n",
              "}"
            ]
          },
          "metadata": {},
          "execution_count": 10
        }
      ],
      "source": [
        "batch.expect_column_values_to_be_of_type('region', 'str')"
      ]
    },
    {
      "cell_type": "markdown",
      "metadata": {
        "id": "8HibFZKwunG_"
      },
      "source": [
        "Note that metrics on the amount of missing values were still collected. This way, we can disambiguate between missing values and incorrect values. In case you were wondering, the `unexpected_percent_nonmissing` refers to the percentage of present (non-null) values that did not meet our expectation (they were not a string). If other metrics are unclear to you, check out [this documentation page](https://docs.greatexpectations.io/en/latest/reference/core_concepts/expectations/result_format.html#behavior-for-summary).\n",
        "\n",
        "Ten en cuenta que todavía se recopilaron métricas sobre la cantidad de valores faltantes. De esta manera, podemos distinguir entre valores faltantes e incorrectos. En caso de que te lo estés preguntando, el `unexpected_percent_nonmissing` se refiere al porcentaje de valores presentes (no nulos) que no cumplieron con nuestra expectativa (no eran una cadena de texto). Si otras métricas no te quedan claras, consulta [esta página de documentación](https://docs.greatexpectations.io/en/latest/reference/core_concepts/expectations/result_format.html#behavior-for-summary)."
      ]
    },
    {
      "cell_type": "markdown",
      "metadata": {
        "id": "Q_Q8_BeTunG_"
      },
      "source": [
        "Ahora que hemos cubierto los conceptos básicos, pasemos a algunas expectativas más sofisticadas. Por ejemplo, podríamos asegurarnos de que todas las `Date`s estén en el formato esperado"
      ]
    },
    {
      "cell_type": "code",
      "execution_count": null,
      "metadata": {
        "id": "SvhKVJAhunG_",
        "outputId": "064ff34c-9f4d-409f-aed5-879f6f4454c4",
        "colab": {
          "base_uri": "https://localhost:8080/"
        }
      },
      "outputs": [
        {
          "output_type": "execute_result",
          "data": {
            "text/plain": [
              "{\n",
              "  \"expectation_config\": {\n",
              "    \"expectation_type\": \"expect_column_values_to_match_strftime_format\",\n",
              "    \"kwargs\": {\n",
              "      \"column\": \"Date\",\n",
              "      \"strftime_format\": \"%Y-%m-%d\",\n",
              "      \"result_format\": \"BASIC\"\n",
              "    },\n",
              "    \"meta\": {}\n",
              "  },\n",
              "  \"exception_info\": {\n",
              "    \"raised_exception\": false,\n",
              "    \"exception_traceback\": null,\n",
              "    \"exception_message\": null\n",
              "  },\n",
              "  \"result\": {\n",
              "    \"element_count\": 18249,\n",
              "    \"missing_count\": 0,\n",
              "    \"missing_percent\": 0.0,\n",
              "    \"unexpected_count\": 0,\n",
              "    \"unexpected_percent\": 0.0,\n",
              "    \"unexpected_percent_total\": 0.0,\n",
              "    \"unexpected_percent_nonmissing\": 0.0,\n",
              "    \"partial_unexpected_list\": []\n",
              "  },\n",
              "  \"meta\": {},\n",
              "  \"success\": true\n",
              "}"
            ]
          },
          "metadata": {},
          "execution_count": 11
        }
      ],
      "source": [
        "batch.expect_column_values_to_match_strftime_format('Date', \"%Y-%m-%d\")"
      ]
    },
    {
      "cell_type": "markdown",
      "metadata": {
        "id": "wHJQQIHPunHA"
      },
      "source": [
        "Otro ejemplo: podemos asegurarnos de que todos los precios de aguacates listados sean razonables."
      ]
    },
    {
      "cell_type": "code",
      "execution_count": null,
      "metadata": {
        "id": "CceCh3UaunHA",
        "outputId": "d5e39f76-b394-4d99-d7af-61bfa6e3b7c0",
        "colab": {
          "base_uri": "https://localhost:8080/"
        }
      },
      "outputs": [
        {
          "output_type": "execute_result",
          "data": {
            "text/plain": [
              "{\n",
              "  \"expectation_config\": {\n",
              "    \"expectation_type\": \"expect_column_values_to_be_between\",\n",
              "    \"kwargs\": {\n",
              "      \"column\": \"AveragePrice\",\n",
              "      \"min_value\": 0.5,\n",
              "      \"max_value\": 3.0,\n",
              "      \"result_format\": \"BASIC\"\n",
              "    },\n",
              "    \"meta\": {}\n",
              "  },\n",
              "  \"exception_info\": {\n",
              "    \"raised_exception\": false,\n",
              "    \"exception_traceback\": null,\n",
              "    \"exception_message\": null\n",
              "  },\n",
              "  \"result\": {\n",
              "    \"element_count\": 18249,\n",
              "    \"missing_count\": 0,\n",
              "    \"missing_percent\": 0.0,\n",
              "    \"unexpected_count\": 11,\n",
              "    \"unexpected_percent\": 0.06027727546714888,\n",
              "    \"unexpected_percent_total\": 0.06027727546714888,\n",
              "    \"unexpected_percent_nonmissing\": 0.06027727546714888,\n",
              "    \"partial_unexpected_list\": [\n",
              "      0.49,\n",
              "      0.46,\n",
              "      3.03,\n",
              "      3.12,\n",
              "      3.25,\n",
              "      0.44,\n",
              "      0.49,\n",
              "      0.48,\n",
              "      3.05,\n",
              "      3.04,\n",
              "      3.17\n",
              "    ]\n",
              "  },\n",
              "  \"meta\": {},\n",
              "  \"success\": false\n",
              "}"
            ]
          },
          "metadata": {},
          "execution_count": 12
        }
      ],
      "source": [
        "batch.expect_column_values_to_be_between('AveragePrice', min_value=0.5, max_value=3.0)"
      ]
    },
    {
      "cell_type": "markdown",
      "metadata": {
        "id": "9wptoZV0unHA"
      },
      "source": [
        "¡Vaya! Eso falló. ¡Parece que tenemos algunos valores atípicos aquí! Great Expectations los recopiló útilmente para nosotros. Por defecto, recogerá hasta 20 ejemplos de valores que no cumplieron con la expectativa (por eso se llama la lista _parcial_ de inesperados).\n",
        "\n",
        "Si queremos permitir estos valores atípicos, podemos agregar algo de tolerancia a la verificación utilizando el parámetro `mostly`. Reemplacemos esa expectativa con una nueva, que solo espera que el 99% de los aguacates tengan un precio dentro del rango que especificamos."
      ]
    },
    {
      "cell_type": "code",
      "execution_count": null,
      "metadata": {
        "id": "NMHyJcBVunHA",
        "outputId": "b56effe0-377c-4064-ee3c-3f0e31ca4729",
        "colab": {
          "base_uri": "https://localhost:8080/"
        }
      },
      "outputs": [
        {
          "output_type": "execute_result",
          "data": {
            "text/plain": [
              "{\n",
              "  \"expectation_config\": {\n",
              "    \"expectation_type\": \"expect_column_values_to_be_between\",\n",
              "    \"kwargs\": {\n",
              "      \"column\": \"AveragePrice\",\n",
              "      \"min_value\": 0.5,\n",
              "      \"max_value\": 3.0,\n",
              "      \"mostly\": 0.99,\n",
              "      \"result_format\": \"BASIC\"\n",
              "    },\n",
              "    \"meta\": {}\n",
              "  },\n",
              "  \"exception_info\": {\n",
              "    \"raised_exception\": false,\n",
              "    \"exception_traceback\": null,\n",
              "    \"exception_message\": null\n",
              "  },\n",
              "  \"result\": {\n",
              "    \"element_count\": 18249,\n",
              "    \"missing_count\": 0,\n",
              "    \"missing_percent\": 0.0,\n",
              "    \"unexpected_count\": 11,\n",
              "    \"unexpected_percent\": 0.06027727546714888,\n",
              "    \"unexpected_percent_total\": 0.06027727546714888,\n",
              "    \"unexpected_percent_nonmissing\": 0.06027727546714888,\n",
              "    \"partial_unexpected_list\": [\n",
              "      0.49,\n",
              "      0.46,\n",
              "      3.03,\n",
              "      3.12,\n",
              "      3.25,\n",
              "      0.44,\n",
              "      0.49,\n",
              "      0.48,\n",
              "      3.05,\n",
              "      3.04,\n",
              "      3.17\n",
              "    ]\n",
              "  },\n",
              "  \"meta\": {},\n",
              "  \"success\": true\n",
              "}"
            ]
          },
          "metadata": {},
          "execution_count": 13
        }
      ],
      "source": [
        "batch.expect_column_values_to_be_between('AveragePrice', min_value=0.5, max_value=3.0, mostly=0.99)"
      ]
    },
    {
      "cell_type": "markdown",
      "metadata": {
        "id": "CeoDaRp1unHA"
      },
      "source": [
        "Otro caso de uso común sería cuando solo esperas que un cierto conjunto de valores aparezca en una columna. Este es el caso de nuestra columna `type`, ya que solo conocemos aguacates cultivados `conventional` (convencionales) y `organic` (orgánicos). Añadamos una verificación para eso:"
      ]
    },
    {
      "cell_type": "code",
      "execution_count": null,
      "metadata": {
        "id": "wsydrxLPunHA",
        "outputId": "305dfe50-58d3-414e-c23f-2001493c9c30",
        "colab": {
          "base_uri": "https://localhost:8080/"
        }
      },
      "outputs": [
        {
          "output_type": "execute_result",
          "data": {
            "text/plain": [
              "{\n",
              "  \"expectation_config\": {\n",
              "    \"expectation_type\": \"expect_column_distinct_values_to_be_in_set\",\n",
              "    \"kwargs\": {\n",
              "      \"column\": \"type\",\n",
              "      \"value_set\": [\n",
              "        \"conventional\",\n",
              "        \"organic\"\n",
              "      ],\n",
              "      \"result_format\": \"BASIC\"\n",
              "    },\n",
              "    \"meta\": {}\n",
              "  },\n",
              "  \"exception_info\": {\n",
              "    \"raised_exception\": false,\n",
              "    \"exception_traceback\": null,\n",
              "    \"exception_message\": null\n",
              "  },\n",
              "  \"result\": {\n",
              "    \"observed_value\": [\n",
              "      \"conventional\",\n",
              "      \"organic\"\n",
              "    ],\n",
              "    \"element_count\": 18249,\n",
              "    \"missing_count\": null,\n",
              "    \"missing_percent\": null\n",
              "  },\n",
              "  \"meta\": {},\n",
              "  \"success\": true\n",
              "}"
            ]
          },
          "metadata": {},
          "execution_count": 14
        }
      ],
      "source": [
        "batch.expect_column_distinct_values_to_be_in_set('type', ['conventional', 'organic'])"
      ]
    },
    {
      "cell_type": "markdown",
      "metadata": {
        "id": "E_MnScO7unHA"
      },
      "source": [
        "Incluso podríamos añadir una verificación sobre las frecuencias de los valores. Por ejemplo, si queremos que la proporción de aguacates orgánicos respecto a los convencionales sea aproximadamente igual, podríamos verificar la [divergencia de Kullback-Leiber](https://en.wikipedia.org/wiki/Kullback%E2%80%93Leibler_divergence) entre nuestra distribución asumida y la que se observa en el conjunto de datos."
      ]
    },
    {
      "cell_type": "code",
      "execution_count": null,
      "metadata": {
        "scrolled": true,
        "id": "52Tw456zunHA",
        "outputId": "17b2f34a-396a-403c-df0f-700a3734bb19",
        "colab": {
          "base_uri": "https://localhost:8080/"
        }
      },
      "outputs": [
        {
          "output_type": "stream",
          "name": "stderr",
          "text": [
            "/usr/local/lib/python3.10/dist-packages/ipykernel/ipkernel.py:283: DeprecationWarning: `should_run_async` will not call `transform_cell` automatically in the future. Please pass the result to `transformed_cell` argument and any exception that happen during thetransform in `preprocessing_exc_tuple` in IPython 7.17 and above.\n",
            "  and should_run_async(code)\n"
          ]
        },
        {
          "output_type": "execute_result",
          "data": {
            "text/plain": [
              "{\n",
              "  \"expectation_config\": {\n",
              "    \"expectation_type\": \"expect_column_kl_divergence_to_be_less_than\",\n",
              "    \"kwargs\": {\n",
              "      \"column\": \"type\",\n",
              "      \"partition_object\": {\n",
              "        \"values\": [\n",
              "          \"conventional\",\n",
              "          \"organic\"\n",
              "        ],\n",
              "        \"weights\": [\n",
              "          0.5,\n",
              "          0.5\n",
              "        ]\n",
              "      },\n",
              "      \"threshold\": 0.1,\n",
              "      \"result_format\": \"BASIC\"\n",
              "    },\n",
              "    \"meta\": {}\n",
              "  },\n",
              "  \"exception_info\": {\n",
              "    \"raised_exception\": false,\n",
              "    \"exception_traceback\": null,\n",
              "    \"exception_message\": null\n",
              "  },\n",
              "  \"result\": {\n",
              "    \"observed_value\": 1.351245850704074e-08,\n",
              "    \"element_count\": 18249,\n",
              "    \"missing_count\": null,\n",
              "    \"missing_percent\": null\n",
              "  },\n",
              "  \"meta\": {},\n",
              "  \"success\": true\n",
              "}"
            ]
          },
          "metadata": {},
          "execution_count": 15
        }
      ],
      "source": [
        "partition_object = {\n",
        "    'values': ['conventional', 'organic'],\n",
        "    'weights': [0.5, 0.5],\n",
        "\n",
        "}\n",
        "batch.expect_column_kl_divergence_to_be_less_than('type', partition_object, 0.1)"
      ]
    },
    {
      "cell_type": "markdown",
      "metadata": {
        "id": "_F_fWlK5unHA"
      },
      "source": [
        "Ahora que hemos explorado algunas expectativas, ¿qué tal si intentas agregar una por tu cuenta? Puedes consultar el [glosario de expectativas](https://docs.greatexpectations.io/en/latest/reference/glossary_of_expectations.html) para ver una lista completa de lo que puedes hacer. ¡Desata tu creatividad!"
      ]
    },
    {
      "cell_type": "code",
      "execution_count": null,
      "metadata": {
        "id": "jfBMQUqpunHA"
      },
      "outputs": [],
      "source": [
        "# El escenario es todo tuyo"
      ]
    },
    {
      "cell_type": "markdown",
      "metadata": {
        "id": "i1_0hMOcunHA"
      },
      "source": [
        "<a id=\"section-expectation-suite\"></a>\n",
        "## The Expectation Suite"
      ]
    },
    {
      "cell_type": "markdown",
      "metadata": {
        "id": "8WIubh1xunHA"
      },
      "source": [
        "Así que, mientras experimentábamos anteriormente, Great Expectations recordó todas las expectativas que ejecutamos. Ahora podemos recuperar el contenido de la suite de la siguiente manera:"
      ]
    },
    {
      "cell_type": "code",
      "execution_count": null,
      "metadata": {
        "scrolled": true,
        "id": "sarKCI7OunHA",
        "outputId": "c37440b3-0754-44f2-ccb4-167b7bf513d5",
        "colab": {
          "base_uri": "https://localhost:8080/"
        }
      },
      "outputs": [
        {
          "output_type": "execute_result",
          "data": {
            "text/plain": [
              "{\n",
              "  \"expectations\": [\n",
              "    {\n",
              "      \"expectation_type\": \"expect_column_to_exist\",\n",
              "      \"kwargs\": {\n",
              "        \"column\": \"Date\"\n",
              "      },\n",
              "      \"meta\": {}\n",
              "    },\n",
              "    {\n",
              "      \"expectation_type\": \"expect_column_values_to_not_be_null\",\n",
              "      \"kwargs\": {\n",
              "        \"column\": \"region\"\n",
              "      },\n",
              "      \"meta\": {}\n",
              "    },\n",
              "    {\n",
              "      \"expectation_type\": \"expect_column_values_to_be_of_type\",\n",
              "      \"kwargs\": {\n",
              "        \"column\": \"region\",\n",
              "        \"type_\": \"str\"\n",
              "      },\n",
              "      \"meta\": {}\n",
              "    },\n",
              "    {\n",
              "      \"expectation_type\": \"expect_column_values_to_match_strftime_format\",\n",
              "      \"kwargs\": {\n",
              "        \"column\": \"Date\",\n",
              "        \"strftime_format\": \"%Y-%m-%d\"\n",
              "      },\n",
              "      \"meta\": {}\n",
              "    },\n",
              "    {\n",
              "      \"expectation_type\": \"expect_column_values_to_be_between\",\n",
              "      \"kwargs\": {\n",
              "        \"column\": \"AveragePrice\",\n",
              "        \"min_value\": 0.5,\n",
              "        \"max_value\": 3.0,\n",
              "        \"mostly\": 0.99\n",
              "      },\n",
              "      \"meta\": {}\n",
              "    },\n",
              "    {\n",
              "      \"expectation_type\": \"expect_column_distinct_values_to_be_in_set\",\n",
              "      \"kwargs\": {\n",
              "        \"column\": \"type\",\n",
              "        \"value_set\": [\n",
              "          \"conventional\",\n",
              "          \"organic\"\n",
              "        ]\n",
              "      },\n",
              "      \"meta\": {}\n",
              "    },\n",
              "    {\n",
              "      \"expectation_type\": \"expect_column_kl_divergence_to_be_less_than\",\n",
              "      \"kwargs\": {\n",
              "        \"column\": \"type\",\n",
              "        \"partition_object\": {\n",
              "          \"values\": [\n",
              "            \"conventional\",\n",
              "            \"organic\"\n",
              "          ],\n",
              "          \"weights\": [\n",
              "            0.5,\n",
              "            0.5\n",
              "          ]\n",
              "        },\n",
              "        \"threshold\": 0.1\n",
              "      },\n",
              "      \"meta\": {}\n",
              "    }\n",
              "  ],\n",
              "  \"ge_cloud_id\": null,\n",
              "  \"expectation_suite_name\": \"check_avocado_data\",\n",
              "  \"meta\": {\n",
              "    \"great_expectations_version\": \"0.15.18\"\n",
              "  },\n",
              "  \"data_asset_type\": \"Dataset\"\n",
              "}"
            ]
          },
          "metadata": {},
          "execution_count": 17
        }
      ],
      "source": [
        "batch.get_expectation_suite()"
      ]
    },
    {
      "cell_type": "markdown",
      "metadata": {
        "id": "YJdNhi6lunHA"
      },
      "source": [
        "Eso nos dio la representación en `dict` que Great Expectations utiliza internamente para llevar un registro de nuestra suite de expectativas. ¿Puedes reconocer algunas de las expectativas que escribimos?\n",
        "\n",
        "Una suite de expectativas es simplemente una secuencia de expectativas, como se muestra a continuación.\n",
        "\n",
        "<img src=\"https://github.com/datarootsio/tutorial-great-expectations/blob/main/figures/expectation_suite.png?raw=1\">\n",
        "\n",
        "Esta representación luego puede ser guardada en un archivo, para que podamos cargarla nuevamente en otro momento, sin depender del código de Python que la produjo.\n",
        "\n",
        "Nota que por defecto, las expectativas que fallaron en el `batch` contra el que se ejecutaron serán omitidas. Si quieres incluirlas de todos modos, podrías agregar el parámetro `discard_failed_expectations=False`."
      ]
    },
    {
      "cell_type": "code",
      "execution_count": null,
      "metadata": {
        "id": "Ii42qEY6unHC"
      },
      "outputs": [],
      "source": [
        "batch.save_expectation_suite()"
      ]
    },
    {
      "cell_type": "markdown",
      "metadata": {
        "id": "tjS3fnQounHC"
      },
      "source": [
        "¿Qué hizo ese comando? Abramos nuestra carpeta de configuración para intentar encontrar nuestra suite de expectativas."
      ]
    },
    {
      "cell_type": "code",
      "execution_count": null,
      "metadata": {
        "scrolled": false,
        "id": "DOj0K-F_unHC",
        "outputId": "00d834b1-b0b5-48cc-ae81-33ccc4b75ca2",
        "colab": {
          "base_uri": "https://localhost:8080/"
        }
      },
      "outputs": [
        {
          "output_type": "stream",
          "name": "stdout",
          "text": [
            "great_expectations\n",
            "├── checkpoints\n",
            "├── expectations\n",
            "│   └── check_avocado_data.json\n",
            "├── great_expectations.yml\n",
            "├── notebooks\n",
            "│   ├── pandas\n",
            "│   │   └── validation_playground.ipynb\n",
            "│   ├── spark\n",
            "│   │   └── validation_playground.ipynb\n",
            "│   └── sql\n",
            "│       └── validation_playground.ipynb\n",
            "└── plugins\n",
            "    └── custom_data_docs\n",
            "        └── styles\n",
            "            └── data_docs_custom_styles.css\n",
            "\n",
            "9 directories, 6 files\n"
          ]
        }
      ],
      "source": [
        "!tree great_expectations -nI \"uncommitted\""
      ]
    },
    {
      "cell_type": "markdown",
      "metadata": {
        "id": "ixDB-KNEunHD"
      },
      "source": [
        "Volveremos a la configuración en un minuto [[Data Context]](#section-data-context), así que no te confundas con esto todavía.\n",
        "\n",
        "Como puedes ver, el comando `save_expectation_suite` guardó nuestra suite `check_avocado_data` en la carpeta `expectations`. Eso es todo lo que hay, la suite de expectativas es simplemente un archivo json. Contiene la misma representación interna que recuperamos de `get_expectation_suite()`. Puedes revisarlo si lo deseas."
      ]
    },
    {
      "cell_type": "code",
      "execution_count": null,
      "metadata": {
        "scrolled": true,
        "id": "RfEZAxl1unHD",
        "outputId": "33b6947f-d870-4070-fe91-78a8188f1704",
        "colab": {
          "base_uri": "https://localhost:8080/"
        }
      },
      "outputs": [
        {
          "output_type": "stream",
          "name": "stdout",
          "text": [
            "{\n",
            "  \"data_asset_type\": \"Dataset\",\n",
            "  \"expectation_suite_name\": \"check_avocado_data\",\n",
            "  \"expectations\": [\n",
            "    {\n",
            "      \"expectation_type\": \"expect_column_to_exist\",\n",
            "      \"kwargs\": {\n",
            "        \"column\": \"Date\"\n",
            "      },\n",
            "      \"meta\": {}\n",
            "    },\n",
            "    {\n",
            "      \"expectation_type\": \"expect_column_values_to_not_be_null\",\n",
            "      \"kwargs\": {\n",
            "        \"column\": \"region\"\n",
            "      },\n",
            "      \"meta\": {}\n",
            "    },\n",
            "    {\n",
            "      \"expectation_type\": \"expect_column_values_to_be_of_type\",\n",
            "      \"kwargs\": {\n",
            "        \"column\": \"region\",\n",
            "        \"type_\": \"str\"\n",
            "      },\n",
            "      \"meta\": {}\n",
            "    },\n",
            "    {\n",
            "      \"expectation_type\": \"expect_column_values_to_match_strftime_format\",\n",
            "      \"kwargs\": {\n",
            "        \"column\": \"Date\",\n",
            "        \"strftime_format\": \"%Y-%m-%d\"\n",
            "      },\n",
            "      \"meta\": {}\n",
            "    },\n",
            "    {\n",
            "      \"expectation_type\": \"expect_column_values_to_be_between\",\n",
            "      \"kwargs\": {\n",
            "        \"column\": \"AveragePrice\",\n",
            "        \"max_value\": 3.0,\n",
            "        \"min_value\": 0.5,\n",
            "        \"mostly\": 0.99\n",
            "      },\n",
            "      \"meta\": {}\n",
            "    },\n",
            "    {\n",
            "      \"expectation_type\": \"expect_column_distinct_values_to_be_in_set\",\n",
            "      \"kwargs\": {\n",
            "        \"column\": \"type\",\n",
            "        \"value_set\": [\n",
            "          \"conventional\",\n",
            "          \"organic\"\n",
            "        ]\n",
            "      },\n",
            "      \"meta\": {}\n",
            "    },\n",
            "    {\n",
            "      \"expectation_type\": \"expect_column_kl_divergence_to_be_less_than\",\n",
            "      \"kwargs\": {\n",
            "        \"column\": \"type\",\n",
            "        \"partition_object\": {\n",
            "          \"values\": [\n",
            "            \"conventional\",\n",
            "            \"organic\"\n",
            "          ],\n",
            "          \"weights\": [\n",
            "            0.5,\n",
            "            0.5\n",
            "          ]\n",
            "        },\n",
            "        \"threshold\": 0.1\n",
            "      },\n",
            "      \"meta\": {}\n",
            "    }\n",
            "  ],\n",
            "  \"ge_cloud_id\": null,\n",
            "  \"meta\": {\n",
            "    \"great_expectations_version\": \"0.15.18\"\n",
            "  }\n",
            "}"
          ]
        }
      ],
      "source": [
        "!cat great_expectations/expectations/check_avocado_data.json"
      ]
    },
    {
      "cell_type": "markdown",
      "metadata": {
        "id": "gTcgL2S-unHD"
      },
      "source": [
        "\n",
        "Las expectativas se almacenan en el _almacén de expectativas_ (_expectation store_), que por defecto es la carpeta `expectations` dentro de tu configuración, pero también puedes usar otros sistemas de almacenamiento, como una base de datos SQL o almacenamiento en la nube (S3, Azure Blob Storage o GCS). Consulta almacenes de metadatos para más información."
      ]
    },
    {
      "cell_type": "markdown",
      "metadata": {
        "id": "csu4GTr_unHD"
      },
      "source": [
        "<a id=\"validation-results\"></a>\n",
        "Ahora que hemos añadido nuestra suite de expectativas a nuestro `DataContext`, podemos intentar ejecutar la suite completa.\n",
        "\n",
        "Validar tus datos contra una suite de expectativas se realiza ejecutando un **operador de validación**. Un operador de validación describe qué se debe hacer con los resultados de la validación. Aquí, nos gustaría almacenar los resultados en el disco y generar un informe amigable sobre ellos. Te mostraremos cómo se configura esto en la sección de [Data Context section](#section-data-context), mientras tanto usaremos `my_validation_operator`, que hemos incluido con la configuración."
      ]
    },
    {
      "cell_type": "code",
      "execution_count": null,
      "metadata": {
        "id": "xgSDxMRPunHD",
        "colab": {
          "base_uri": "https://localhost:8080/",
          "height": 1000
        },
        "outputId": "209333e4-4959-496e-8821-a6b911669e29"
      },
      "outputs": [
        {
          "output_type": "stream",
          "name": "stderr",
          "text": [
            "ERROR:great_expectations.validation_operators.validation_operators:Error running action with name store_validation_result\n",
            "Traceback (most recent call last):\n",
            "  File \"/usr/local/lib/python3.10/dist-packages/great_expectations/validation_operators/validation_operators.py\", line 458, in _run_actions\n",
            "    action_result = self.actions[action[\"name\"]].run(\n",
            "  File \"/usr/local/lib/python3.10/dist-packages/great_expectations/checkpoint/actions.py\", line 72, in run\n",
            "    return self._run(\n",
            "  File \"/usr/local/lib/python3.10/dist-packages/great_expectations/checkpoint/actions.py\", line 826, in _run\n",
            "    return_val = self.target_store.set(\n",
            "  File \"/usr/local/lib/python3.10/dist-packages/great_expectations/data_context/store/store.py\", line 169, in set\n",
            "    self.key_to_tuple(key), self.serialize(value), **kwargs\n",
            "  File \"/usr/local/lib/python3.10/dist-packages/great_expectations/data_context/store/validations_store.py\", line 172, in serialize\n",
            "    return self._expectationSuiteValidationResultSchema.dumps(\n",
            "  File \"/usr/local/lib/python3.10/dist-packages/great_expectations/marshmallow__shade/schema.py\", line 584, in dumps\n",
            "    serialized = self.dump(obj, many=many)\n",
            "  File \"/usr/local/lib/python3.10/dist-packages/great_expectations/marshmallow__shade/schema.py\", line 560, in dump\n",
            "    result = self._serialize(processed_obj, many=many)\n",
            "  File \"/usr/local/lib/python3.10/dist-packages/great_expectations/marshmallow__shade/schema.py\", line 524, in _serialize\n",
            "    value = field_obj.serialize(attr_name, obj, accessor=self.get_attribute)\n",
            "  File \"/usr/local/lib/python3.10/dist-packages/great_expectations/marshmallow__shade/fields.py\", line 309, in serialize\n",
            "    return self._serialize(value, attr, obj, **kwargs)\n",
            "  File \"/usr/local/lib/python3.10/dist-packages/great_expectations/marshmallow__shade/fields.py\", line 697, in _serialize\n",
            "    return [self.inner._serialize(each, attr, obj, **kwargs) for each in value]\n",
            "  File \"/usr/local/lib/python3.10/dist-packages/great_expectations/marshmallow__shade/fields.py\", line 697, in <listcomp>\n",
            "    return [self.inner._serialize(each, attr, obj, **kwargs) for each in value]\n",
            "  File \"/usr/local/lib/python3.10/dist-packages/great_expectations/marshmallow__shade/fields.py\", line 564, in _serialize\n",
            "    return schema.dump(nested_obj, many=many)\n",
            "  File \"/usr/local/lib/python3.10/dist-packages/great_expectations/marshmallow__shade/schema.py\", line 554, in dump\n",
            "    processed_obj = self._invoke_dump_processors(\n",
            "  File \"/usr/local/lib/python3.10/dist-packages/great_expectations/marshmallow__shade/schema.py\", line 1074, in _invoke_dump_processors\n",
            "    data = self._invoke_processors(\n",
            "  File \"/usr/local/lib/python3.10/dist-packages/great_expectations/marshmallow__shade/schema.py\", line 1233, in _invoke_processors\n",
            "    data = processor(data, many=many, **kwargs)\n",
            "  File \"/usr/local/lib/python3.10/dist-packages/great_expectations/core/expectation_validation_result.py\", line 349, in convert_result_to_serializable\n",
            "    data.result = convert_to_json_serializable(data.result)\n",
            "  File \"/usr/local/lib/python3.10/dist-packages/great_expectations/core/util.py\", line 186, in convert_to_json_serializable\n",
            "    new_dict[str(key)] = convert_to_json_serializable(data[key])\n",
            "  File \"/usr/local/lib/python3.10/dist-packages/great_expectations/core/util.py\", line 186, in convert_to_json_serializable\n",
            "    new_dict[str(key)] = convert_to_json_serializable(data[key])\n",
            "  File \"/usr/local/lib/python3.10/dist-packages/great_expectations/core/util.py\", line 257, in convert_to_json_serializable\n",
            "    for idx, val in data.iteritems()\n",
            "  File \"/usr/local/lib/python3.10/dist-packages/pandas/core/generic.py\", line 5989, in __getattr__\n",
            "    return object.__getattribute__(self, name)\n",
            "AttributeError: 'Series' object has no attribute 'iteritems'\n"
          ]
        },
        {
          "output_type": "error",
          "ename": "AttributeError",
          "evalue": "'Series' object has no attribute 'iteritems'",
          "traceback": [
            "\u001b[0;31m---------------------------------------------------------------------------\u001b[0m",
            "\u001b[0;31mAttributeError\u001b[0m                            Traceback (most recent call last)",
            "\u001b[0;32m<ipython-input-21-88cbdb95a196>\u001b[0m in \u001b[0;36m<cell line: 1>\u001b[0;34m()\u001b[0m\n\u001b[0;32m----> 1\u001b[0;31m \u001b[0mresults\u001b[0m \u001b[0;34m=\u001b[0m \u001b[0mcontext\u001b[0m\u001b[0;34m.\u001b[0m\u001b[0mrun_validation_operator\u001b[0m\u001b[0;34m(\u001b[0m\u001b[0;34m'my_validation_operator'\u001b[0m\u001b[0;34m,\u001b[0m \u001b[0massets_to_validate\u001b[0m\u001b[0;34m=\u001b[0m\u001b[0;34m[\u001b[0m\u001b[0mbatch\u001b[0m\u001b[0;34m]\u001b[0m\u001b[0;34m)\u001b[0m\u001b[0;34m\u001b[0m\u001b[0;34m\u001b[0m\u001b[0m\n\u001b[0m",
            "\u001b[0;32m/usr/local/lib/python3.10/dist-packages/great_expectations/core/usage_statistics/usage_statistics.py\u001b[0m in \u001b[0;36musage_statistics_wrapped_method\u001b[0;34m(*args, **kwargs)\u001b[0m\n\u001b[1;32m    292\u001b[0m                     \u001b[0mnested_update\u001b[0m\u001b[0;34m(\u001b[0m\u001b[0mevent_payload\u001b[0m\u001b[0;34m,\u001b[0m \u001b[0margs_payload_fn\u001b[0m\u001b[0;34m(\u001b[0m\u001b[0;34m*\u001b[0m\u001b[0margs\u001b[0m\u001b[0;34m,\u001b[0m \u001b[0;34m**\u001b[0m\u001b[0mkwargs\u001b[0m\u001b[0;34m)\u001b[0m\u001b[0;34m)\u001b[0m\u001b[0;34m\u001b[0m\u001b[0;34m\u001b[0m\u001b[0m\n\u001b[1;32m    293\u001b[0m \u001b[0;34m\u001b[0m\u001b[0m\n\u001b[0;32m--> 294\u001b[0;31m                 \u001b[0mresult\u001b[0m \u001b[0;34m=\u001b[0m \u001b[0mfunc\u001b[0m\u001b[0;34m(\u001b[0m\u001b[0;34m*\u001b[0m\u001b[0margs\u001b[0m\u001b[0;34m,\u001b[0m \u001b[0;34m**\u001b[0m\u001b[0mkwargs\u001b[0m\u001b[0;34m)\u001b[0m\u001b[0;34m\u001b[0m\u001b[0;34m\u001b[0m\u001b[0m\n\u001b[0m\u001b[1;32m    295\u001b[0m                 \u001b[0mmessage\u001b[0m\u001b[0;34m[\u001b[0m\u001b[0;34m\"success\"\u001b[0m\u001b[0;34m]\u001b[0m \u001b[0;34m=\u001b[0m \u001b[0;32mTrue\u001b[0m\u001b[0;34m\u001b[0m\u001b[0;34m\u001b[0m\u001b[0m\n\u001b[1;32m    296\u001b[0m             \u001b[0;32mexcept\u001b[0m \u001b[0mException\u001b[0m\u001b[0;34m:\u001b[0m\u001b[0;34m\u001b[0m\u001b[0;34m\u001b[0m\u001b[0m\n",
            "\u001b[0;32m/usr/local/lib/python3.10/dist-packages/great_expectations/data_context/data_context/base_data_context.py\u001b[0m in \u001b[0;36mrun_validation_operator\u001b[0;34m(self, validation_operator_name, assets_to_validate, run_id, evaluation_parameters, run_name, run_time, result_format, **kwargs)\u001b[0m\n\u001b[1;32m   1001\u001b[0m             \u001b[0mlogger\u001b[0m\u001b[0;34m.\u001b[0m\u001b[0minfo\u001b[0m\u001b[0;34m(\u001b[0m\u001b[0;34mf\"Setting run_name to: {run_name}\"\u001b[0m\u001b[0;34m)\u001b[0m\u001b[0;34m\u001b[0m\u001b[0;34m\u001b[0m\u001b[0m\n\u001b[1;32m   1002\u001b[0m         \u001b[0;32mif\u001b[0m \u001b[0mevaluation_parameters\u001b[0m \u001b[0;32mis\u001b[0m \u001b[0;32mNone\u001b[0m\u001b[0;34m:\u001b[0m\u001b[0;34m\u001b[0m\u001b[0;34m\u001b[0m\u001b[0m\n\u001b[0;32m-> 1003\u001b[0;31m             return validation_operator.run(\n\u001b[0m\u001b[1;32m   1004\u001b[0m                 \u001b[0massets_to_validate\u001b[0m\u001b[0;34m=\u001b[0m\u001b[0massets_to_validate\u001b[0m\u001b[0;34m,\u001b[0m\u001b[0;34m\u001b[0m\u001b[0;34m\u001b[0m\u001b[0m\n\u001b[1;32m   1005\u001b[0m                 \u001b[0mrun_id\u001b[0m\u001b[0;34m=\u001b[0m\u001b[0mrun_id\u001b[0m\u001b[0;34m,\u001b[0m\u001b[0;34m\u001b[0m\u001b[0;34m\u001b[0m\u001b[0m\n",
            "\u001b[0;32m/usr/local/lib/python3.10/dist-packages/great_expectations/validation_operators/validation_operators.py\u001b[0m in \u001b[0;36mrun\u001b[0;34m(self, assets_to_validate, run_id, evaluation_parameters, run_name, run_time, catch_exceptions, result_format, checkpoint_identifier, checkpoint_name, validation_id)\u001b[0m\n\u001b[1;32m    391\u001b[0m                     )\n\u001b[1;32m    392\u001b[0m \u001b[0;34m\u001b[0m\u001b[0m\n\u001b[0;32m--> 393\u001b[0;31m                 batch_actions_results = self._run_actions(\n\u001b[0m\u001b[1;32m    394\u001b[0m                     \u001b[0mbatch\u001b[0m\u001b[0;34m=\u001b[0m\u001b[0mbatch\u001b[0m\u001b[0;34m,\u001b[0m\u001b[0;34m\u001b[0m\u001b[0;34m\u001b[0m\u001b[0m\n\u001b[1;32m    395\u001b[0m                     \u001b[0mexpectation_suite_identifier\u001b[0m\u001b[0;34m=\u001b[0m\u001b[0mexpectation_suite_identifier\u001b[0m\u001b[0;34m,\u001b[0m\u001b[0;34m\u001b[0m\u001b[0;34m\u001b[0m\u001b[0m\n",
            "\u001b[0;32m/usr/local/lib/python3.10/dist-packages/great_expectations/validation_operators/validation_operators.py\u001b[0m in \u001b[0;36m_run_actions\u001b[0;34m(self, batch, expectation_suite_identifier, expectation_suite, batch_validation_result, run_id, validation_result_id, checkpoint_identifier)\u001b[0m\n\u001b[1;32m    475\u001b[0m             \u001b[0;32mexcept\u001b[0m \u001b[0mException\u001b[0m \u001b[0;32mas\u001b[0m \u001b[0me\u001b[0m\u001b[0;34m:\u001b[0m\u001b[0;34m\u001b[0m\u001b[0;34m\u001b[0m\u001b[0m\n\u001b[1;32m    476\u001b[0m                 \u001b[0mlogger\u001b[0m\u001b[0;34m.\u001b[0m\u001b[0mexception\u001b[0m\u001b[0;34m(\u001b[0m\u001b[0;34mf\"Error running action with name {action['name']}\"\u001b[0m\u001b[0;34m)\u001b[0m\u001b[0;34m\u001b[0m\u001b[0;34m\u001b[0m\u001b[0m\n\u001b[0;32m--> 477\u001b[0;31m                 \u001b[0;32mraise\u001b[0m \u001b[0me\u001b[0m\u001b[0;34m\u001b[0m\u001b[0;34m\u001b[0m\u001b[0m\n\u001b[0m\u001b[1;32m    478\u001b[0m \u001b[0;34m\u001b[0m\u001b[0m\n\u001b[1;32m    479\u001b[0m         \u001b[0;32mreturn\u001b[0m \u001b[0mbatch_actions_results\u001b[0m\u001b[0;34m\u001b[0m\u001b[0;34m\u001b[0m\u001b[0m\n",
            "\u001b[0;32m/usr/local/lib/python3.10/dist-packages/great_expectations/validation_operators/validation_operators.py\u001b[0m in \u001b[0;36m_run_actions\u001b[0;34m(self, batch, expectation_suite_identifier, expectation_suite, batch_validation_result, run_id, validation_result_id, checkpoint_identifier)\u001b[0m\n\u001b[1;32m    456\u001b[0m                 )\n\u001b[1;32m    457\u001b[0m             \u001b[0;32mtry\u001b[0m\u001b[0;34m:\u001b[0m\u001b[0;34m\u001b[0m\u001b[0;34m\u001b[0m\u001b[0m\n\u001b[0;32m--> 458\u001b[0;31m                 action_result = self.actions[action[\"name\"]].run(\n\u001b[0m\u001b[1;32m    459\u001b[0m                     \u001b[0mvalidation_result_suite_identifier\u001b[0m\u001b[0;34m=\u001b[0m\u001b[0mvalidation_result_id\u001b[0m\u001b[0;34m,\u001b[0m\u001b[0;34m\u001b[0m\u001b[0;34m\u001b[0m\u001b[0m\n\u001b[1;32m    460\u001b[0m                     \u001b[0mvalidation_result_suite\u001b[0m\u001b[0;34m=\u001b[0m\u001b[0mbatch_validation_result\u001b[0m\u001b[0;34m,\u001b[0m\u001b[0;34m\u001b[0m\u001b[0;34m\u001b[0m\u001b[0m\n",
            "\u001b[0;32m/usr/local/lib/python3.10/dist-packages/great_expectations/checkpoint/actions.py\u001b[0m in \u001b[0;36mrun\u001b[0;34m(self, validation_result_suite, validation_result_suite_identifier, data_asset, expectation_suite_identifier, checkpoint_identifier, **kwargs)\u001b[0m\n\u001b[1;32m     70\u001b[0m         \u001b[0;34m:\u001b[0m\u001b[0;32mreturn\u001b[0m\u001b[0;34m:\u001b[0m\u001b[0;34m\u001b[0m\u001b[0;34m\u001b[0m\u001b[0m\n\u001b[1;32m     71\u001b[0m         \"\"\"\n\u001b[0;32m---> 72\u001b[0;31m         return self._run(\n\u001b[0m\u001b[1;32m     73\u001b[0m             \u001b[0mvalidation_result_suite\u001b[0m\u001b[0;34m=\u001b[0m\u001b[0mvalidation_result_suite\u001b[0m\u001b[0;34m,\u001b[0m\u001b[0;34m\u001b[0m\u001b[0;34m\u001b[0m\u001b[0m\n\u001b[1;32m     74\u001b[0m             \u001b[0mvalidation_result_suite_identifier\u001b[0m\u001b[0;34m=\u001b[0m\u001b[0mvalidation_result_suite_identifier\u001b[0m\u001b[0;34m,\u001b[0m\u001b[0;34m\u001b[0m\u001b[0;34m\u001b[0m\u001b[0m\n",
            "\u001b[0;32m/usr/local/lib/python3.10/dist-packages/great_expectations/checkpoint/actions.py\u001b[0m in \u001b[0;36m_run\u001b[0;34m(self, validation_result_suite, validation_result_suite_identifier, data_asset, payload, expectation_suite_identifier, checkpoint_identifier)\u001b[0m\n\u001b[1;32m    824\u001b[0m             )\n\u001b[1;32m    825\u001b[0m \u001b[0;34m\u001b[0m\u001b[0m\n\u001b[0;32m--> 826\u001b[0;31m         return_val = self.target_store.set(\n\u001b[0m\u001b[1;32m    827\u001b[0m             \u001b[0mvalidation_result_suite_identifier\u001b[0m\u001b[0;34m,\u001b[0m\u001b[0;34m\u001b[0m\u001b[0;34m\u001b[0m\u001b[0m\n\u001b[1;32m    828\u001b[0m             \u001b[0mvalidation_result_suite\u001b[0m\u001b[0;34m,\u001b[0m\u001b[0;34m\u001b[0m\u001b[0;34m\u001b[0m\u001b[0m\n",
            "\u001b[0;32m/usr/local/lib/python3.10/dist-packages/great_expectations/data_context/store/store.py\u001b[0m in \u001b[0;36mset\u001b[0;34m(self, key, value, **kwargs)\u001b[0m\n\u001b[1;32m    167\u001b[0m         \u001b[0mself\u001b[0m\u001b[0;34m.\u001b[0m\u001b[0m_validate_key\u001b[0m\u001b[0;34m(\u001b[0m\u001b[0mkey\u001b[0m\u001b[0;34m)\u001b[0m\u001b[0;34m\u001b[0m\u001b[0;34m\u001b[0m\u001b[0m\n\u001b[1;32m    168\u001b[0m         return self._store_backend.set(\n\u001b[0;32m--> 169\u001b[0;31m             \u001b[0mself\u001b[0m\u001b[0;34m.\u001b[0m\u001b[0mkey_to_tuple\u001b[0m\u001b[0;34m(\u001b[0m\u001b[0mkey\u001b[0m\u001b[0;34m)\u001b[0m\u001b[0;34m,\u001b[0m \u001b[0mself\u001b[0m\u001b[0;34m.\u001b[0m\u001b[0mserialize\u001b[0m\u001b[0;34m(\u001b[0m\u001b[0mvalue\u001b[0m\u001b[0;34m)\u001b[0m\u001b[0;34m,\u001b[0m \u001b[0;34m**\u001b[0m\u001b[0mkwargs\u001b[0m\u001b[0;34m\u001b[0m\u001b[0;34m\u001b[0m\u001b[0m\n\u001b[0m\u001b[1;32m    170\u001b[0m         )\n\u001b[1;32m    171\u001b[0m \u001b[0;34m\u001b[0m\u001b[0m\n",
            "\u001b[0;32m/usr/local/lib/python3.10/dist-packages/great_expectations/data_context/store/validations_store.py\u001b[0m in \u001b[0;36mserialize\u001b[0;34m(self, value)\u001b[0m\n\u001b[1;32m    170\u001b[0m         \u001b[0;32mif\u001b[0m \u001b[0mself\u001b[0m\u001b[0;34m.\u001b[0m\u001b[0mge_cloud_mode\u001b[0m\u001b[0;34m:\u001b[0m\u001b[0;34m\u001b[0m\u001b[0;34m\u001b[0m\u001b[0m\n\u001b[1;32m    171\u001b[0m             \u001b[0;32mreturn\u001b[0m \u001b[0mvalue\u001b[0m\u001b[0;34m.\u001b[0m\u001b[0mto_json_dict\u001b[0m\u001b[0;34m(\u001b[0m\u001b[0;34m)\u001b[0m\u001b[0;34m\u001b[0m\u001b[0;34m\u001b[0m\u001b[0m\n\u001b[0;32m--> 172\u001b[0;31m         return self._expectationSuiteValidationResultSchema.dumps(\n\u001b[0m\u001b[1;32m    173\u001b[0m             \u001b[0mvalue\u001b[0m\u001b[0;34m,\u001b[0m \u001b[0mindent\u001b[0m\u001b[0;34m=\u001b[0m\u001b[0;36m2\u001b[0m\u001b[0;34m,\u001b[0m \u001b[0msort_keys\u001b[0m\u001b[0;34m=\u001b[0m\u001b[0;32mTrue\u001b[0m\u001b[0;34m\u001b[0m\u001b[0;34m\u001b[0m\u001b[0m\n\u001b[1;32m    174\u001b[0m         )\n",
            "\u001b[0;32m/usr/local/lib/python3.10/dist-packages/great_expectations/marshmallow__shade/schema.py\u001b[0m in \u001b[0;36mdumps\u001b[0;34m(self, obj, many, *args, **kwargs)\u001b[0m\n\u001b[1;32m    582\u001b[0m             \u001b[0;32mif\u001b[0m\u001b[0;31m \u001b[0m\u001b[0;31m`\u001b[0m\u001b[0;31m`\u001b[0m\u001b[0mobj\u001b[0m\u001b[0;31m`\u001b[0m\u001b[0;31m`\u001b[0m \u001b[0;32mis\u001b[0m \u001b[0minvalid\u001b[0m\u001b[0;34m.\u001b[0m\u001b[0;34m\u001b[0m\u001b[0;34m\u001b[0m\u001b[0m\n\u001b[1;32m    583\u001b[0m         \"\"\"\n\u001b[0;32m--> 584\u001b[0;31m         \u001b[0mserialized\u001b[0m \u001b[0;34m=\u001b[0m \u001b[0mself\u001b[0m\u001b[0;34m.\u001b[0m\u001b[0mdump\u001b[0m\u001b[0;34m(\u001b[0m\u001b[0mobj\u001b[0m\u001b[0;34m,\u001b[0m \u001b[0mmany\u001b[0m\u001b[0;34m=\u001b[0m\u001b[0mmany\u001b[0m\u001b[0;34m)\u001b[0m\u001b[0;34m\u001b[0m\u001b[0;34m\u001b[0m\u001b[0m\n\u001b[0m\u001b[1;32m    585\u001b[0m \u001b[0;34m\u001b[0m\u001b[0m\n\u001b[1;32m    586\u001b[0m         \u001b[0;32mdef\u001b[0m \u001b[0mdatetime_serializer\u001b[0m\u001b[0;34m(\u001b[0m\u001b[0mo\u001b[0m\u001b[0;34m)\u001b[0m\u001b[0;34m:\u001b[0m\u001b[0;34m\u001b[0m\u001b[0;34m\u001b[0m\u001b[0m\n",
            "\u001b[0;32m/usr/local/lib/python3.10/dist-packages/great_expectations/marshmallow__shade/schema.py\u001b[0m in \u001b[0;36mdump\u001b[0;34m(self, obj, many)\u001b[0m\n\u001b[1;32m    558\u001b[0m             \u001b[0mprocessed_obj\u001b[0m \u001b[0;34m=\u001b[0m \u001b[0mobj\u001b[0m\u001b[0;34m\u001b[0m\u001b[0;34m\u001b[0m\u001b[0m\n\u001b[1;32m    559\u001b[0m \u001b[0;34m\u001b[0m\u001b[0m\n\u001b[0;32m--> 560\u001b[0;31m         \u001b[0mresult\u001b[0m \u001b[0;34m=\u001b[0m \u001b[0mself\u001b[0m\u001b[0;34m.\u001b[0m\u001b[0m_serialize\u001b[0m\u001b[0;34m(\u001b[0m\u001b[0mprocessed_obj\u001b[0m\u001b[0;34m,\u001b[0m \u001b[0mmany\u001b[0m\u001b[0;34m=\u001b[0m\u001b[0mmany\u001b[0m\u001b[0;34m)\u001b[0m\u001b[0;34m\u001b[0m\u001b[0;34m\u001b[0m\u001b[0m\n\u001b[0m\u001b[1;32m    561\u001b[0m \u001b[0;34m\u001b[0m\u001b[0m\n\u001b[1;32m    562\u001b[0m         \u001b[0;32mif\u001b[0m \u001b[0mself\u001b[0m\u001b[0;34m.\u001b[0m\u001b[0m_has_processors\u001b[0m\u001b[0;34m(\u001b[0m\u001b[0mPOST_DUMP\u001b[0m\u001b[0;34m)\u001b[0m\u001b[0;34m:\u001b[0m\u001b[0;34m\u001b[0m\u001b[0;34m\u001b[0m\u001b[0m\n",
            "\u001b[0;32m/usr/local/lib/python3.10/dist-packages/great_expectations/marshmallow__shade/schema.py\u001b[0m in \u001b[0;36m_serialize\u001b[0;34m(self, obj, many)\u001b[0m\n\u001b[1;32m    522\u001b[0m         \u001b[0mret\u001b[0m \u001b[0;34m=\u001b[0m \u001b[0mself\u001b[0m\u001b[0;34m.\u001b[0m\u001b[0mdict_class\u001b[0m\u001b[0;34m(\u001b[0m\u001b[0;34m)\u001b[0m\u001b[0;34m\u001b[0m\u001b[0;34m\u001b[0m\u001b[0m\n\u001b[1;32m    523\u001b[0m         \u001b[0;32mfor\u001b[0m \u001b[0mattr_name\u001b[0m\u001b[0;34m,\u001b[0m \u001b[0mfield_obj\u001b[0m \u001b[0;32min\u001b[0m \u001b[0mself\u001b[0m\u001b[0;34m.\u001b[0m\u001b[0mdump_fields\u001b[0m\u001b[0;34m.\u001b[0m\u001b[0mitems\u001b[0m\u001b[0;34m(\u001b[0m\u001b[0;34m)\u001b[0m\u001b[0;34m:\u001b[0m\u001b[0;34m\u001b[0m\u001b[0;34m\u001b[0m\u001b[0m\n\u001b[0;32m--> 524\u001b[0;31m             \u001b[0mvalue\u001b[0m \u001b[0;34m=\u001b[0m \u001b[0mfield_obj\u001b[0m\u001b[0;34m.\u001b[0m\u001b[0mserialize\u001b[0m\u001b[0;34m(\u001b[0m\u001b[0mattr_name\u001b[0m\u001b[0;34m,\u001b[0m \u001b[0mobj\u001b[0m\u001b[0;34m,\u001b[0m \u001b[0maccessor\u001b[0m\u001b[0;34m=\u001b[0m\u001b[0mself\u001b[0m\u001b[0;34m.\u001b[0m\u001b[0mget_attribute\u001b[0m\u001b[0;34m)\u001b[0m\u001b[0;34m\u001b[0m\u001b[0;34m\u001b[0m\u001b[0m\n\u001b[0m\u001b[1;32m    525\u001b[0m             \u001b[0;32mif\u001b[0m \u001b[0mvalue\u001b[0m \u001b[0;32mis\u001b[0m \u001b[0mmissing\u001b[0m\u001b[0;34m:\u001b[0m\u001b[0;34m\u001b[0m\u001b[0;34m\u001b[0m\u001b[0m\n\u001b[1;32m    526\u001b[0m                 \u001b[0;32mcontinue\u001b[0m\u001b[0;34m\u001b[0m\u001b[0;34m\u001b[0m\u001b[0m\n",
            "\u001b[0;32m/usr/local/lib/python3.10/dist-packages/great_expectations/marshmallow__shade/fields.py\u001b[0m in \u001b[0;36mserialize\u001b[0;34m(self, attr, obj, accessor, **kwargs)\u001b[0m\n\u001b[1;32m    307\u001b[0m         \u001b[0;32melse\u001b[0m\u001b[0;34m:\u001b[0m\u001b[0;34m\u001b[0m\u001b[0;34m\u001b[0m\u001b[0m\n\u001b[1;32m    308\u001b[0m             \u001b[0mvalue\u001b[0m \u001b[0;34m=\u001b[0m \u001b[0;32mNone\u001b[0m\u001b[0;34m\u001b[0m\u001b[0;34m\u001b[0m\u001b[0m\n\u001b[0;32m--> 309\u001b[0;31m         \u001b[0;32mreturn\u001b[0m \u001b[0mself\u001b[0m\u001b[0;34m.\u001b[0m\u001b[0m_serialize\u001b[0m\u001b[0;34m(\u001b[0m\u001b[0mvalue\u001b[0m\u001b[0;34m,\u001b[0m \u001b[0mattr\u001b[0m\u001b[0;34m,\u001b[0m \u001b[0mobj\u001b[0m\u001b[0;34m,\u001b[0m \u001b[0;34m**\u001b[0m\u001b[0mkwargs\u001b[0m\u001b[0;34m)\u001b[0m\u001b[0;34m\u001b[0m\u001b[0;34m\u001b[0m\u001b[0m\n\u001b[0m\u001b[1;32m    310\u001b[0m \u001b[0;34m\u001b[0m\u001b[0m\n\u001b[1;32m    311\u001b[0m     def deserialize(\n",
            "\u001b[0;32m/usr/local/lib/python3.10/dist-packages/great_expectations/marshmallow__shade/fields.py\u001b[0m in \u001b[0;36m_serialize\u001b[0;34m(self, value, attr, obj, **kwargs)\u001b[0m\n\u001b[1;32m    695\u001b[0m         \u001b[0;32mif\u001b[0m \u001b[0mvalue\u001b[0m \u001b[0;32mis\u001b[0m \u001b[0;32mNone\u001b[0m\u001b[0;34m:\u001b[0m\u001b[0;34m\u001b[0m\u001b[0;34m\u001b[0m\u001b[0m\n\u001b[1;32m    696\u001b[0m             \u001b[0;32mreturn\u001b[0m \u001b[0;32mNone\u001b[0m\u001b[0;34m\u001b[0m\u001b[0;34m\u001b[0m\u001b[0m\n\u001b[0;32m--> 697\u001b[0;31m         \u001b[0;32mreturn\u001b[0m \u001b[0;34m[\u001b[0m\u001b[0mself\u001b[0m\u001b[0;34m.\u001b[0m\u001b[0minner\u001b[0m\u001b[0;34m.\u001b[0m\u001b[0m_serialize\u001b[0m\u001b[0;34m(\u001b[0m\u001b[0meach\u001b[0m\u001b[0;34m,\u001b[0m \u001b[0mattr\u001b[0m\u001b[0;34m,\u001b[0m \u001b[0mobj\u001b[0m\u001b[0;34m,\u001b[0m \u001b[0;34m**\u001b[0m\u001b[0mkwargs\u001b[0m\u001b[0;34m)\u001b[0m \u001b[0;32mfor\u001b[0m \u001b[0meach\u001b[0m \u001b[0;32min\u001b[0m \u001b[0mvalue\u001b[0m\u001b[0;34m]\u001b[0m\u001b[0;34m\u001b[0m\u001b[0;34m\u001b[0m\u001b[0m\n\u001b[0m\u001b[1;32m    698\u001b[0m \u001b[0;34m\u001b[0m\u001b[0m\n\u001b[1;32m    699\u001b[0m     \u001b[0;32mdef\u001b[0m \u001b[0m_deserialize\u001b[0m\u001b[0;34m(\u001b[0m\u001b[0mself\u001b[0m\u001b[0;34m,\u001b[0m \u001b[0mvalue\u001b[0m\u001b[0;34m,\u001b[0m \u001b[0mattr\u001b[0m\u001b[0;34m,\u001b[0m \u001b[0mdata\u001b[0m\u001b[0;34m,\u001b[0m \u001b[0;34m**\u001b[0m\u001b[0mkwargs\u001b[0m\u001b[0;34m)\u001b[0m \u001b[0;34m->\u001b[0m \u001b[0mtyping\u001b[0m\u001b[0;34m.\u001b[0m\u001b[0mList\u001b[0m\u001b[0;34m[\u001b[0m\u001b[0mtyping\u001b[0m\u001b[0;34m.\u001b[0m\u001b[0mAny\u001b[0m\u001b[0;34m]\u001b[0m\u001b[0;34m:\u001b[0m\u001b[0;34m\u001b[0m\u001b[0;34m\u001b[0m\u001b[0m\n",
            "\u001b[0;32m/usr/local/lib/python3.10/dist-packages/great_expectations/marshmallow__shade/fields.py\u001b[0m in \u001b[0;36m<listcomp>\u001b[0;34m(.0)\u001b[0m\n\u001b[1;32m    695\u001b[0m         \u001b[0;32mif\u001b[0m \u001b[0mvalue\u001b[0m \u001b[0;32mis\u001b[0m \u001b[0;32mNone\u001b[0m\u001b[0;34m:\u001b[0m\u001b[0;34m\u001b[0m\u001b[0;34m\u001b[0m\u001b[0m\n\u001b[1;32m    696\u001b[0m             \u001b[0;32mreturn\u001b[0m \u001b[0;32mNone\u001b[0m\u001b[0;34m\u001b[0m\u001b[0;34m\u001b[0m\u001b[0m\n\u001b[0;32m--> 697\u001b[0;31m         \u001b[0;32mreturn\u001b[0m \u001b[0;34m[\u001b[0m\u001b[0mself\u001b[0m\u001b[0;34m.\u001b[0m\u001b[0minner\u001b[0m\u001b[0;34m.\u001b[0m\u001b[0m_serialize\u001b[0m\u001b[0;34m(\u001b[0m\u001b[0meach\u001b[0m\u001b[0;34m,\u001b[0m \u001b[0mattr\u001b[0m\u001b[0;34m,\u001b[0m \u001b[0mobj\u001b[0m\u001b[0;34m,\u001b[0m \u001b[0;34m**\u001b[0m\u001b[0mkwargs\u001b[0m\u001b[0;34m)\u001b[0m \u001b[0;32mfor\u001b[0m \u001b[0meach\u001b[0m \u001b[0;32min\u001b[0m \u001b[0mvalue\u001b[0m\u001b[0;34m]\u001b[0m\u001b[0;34m\u001b[0m\u001b[0;34m\u001b[0m\u001b[0m\n\u001b[0m\u001b[1;32m    698\u001b[0m \u001b[0;34m\u001b[0m\u001b[0m\n\u001b[1;32m    699\u001b[0m     \u001b[0;32mdef\u001b[0m \u001b[0m_deserialize\u001b[0m\u001b[0;34m(\u001b[0m\u001b[0mself\u001b[0m\u001b[0;34m,\u001b[0m \u001b[0mvalue\u001b[0m\u001b[0;34m,\u001b[0m \u001b[0mattr\u001b[0m\u001b[0;34m,\u001b[0m \u001b[0mdata\u001b[0m\u001b[0;34m,\u001b[0m \u001b[0;34m**\u001b[0m\u001b[0mkwargs\u001b[0m\u001b[0;34m)\u001b[0m \u001b[0;34m->\u001b[0m \u001b[0mtyping\u001b[0m\u001b[0;34m.\u001b[0m\u001b[0mList\u001b[0m\u001b[0;34m[\u001b[0m\u001b[0mtyping\u001b[0m\u001b[0;34m.\u001b[0m\u001b[0mAny\u001b[0m\u001b[0;34m]\u001b[0m\u001b[0;34m:\u001b[0m\u001b[0;34m\u001b[0m\u001b[0;34m\u001b[0m\u001b[0m\n",
            "\u001b[0;32m/usr/local/lib/python3.10/dist-packages/great_expectations/marshmallow__shade/fields.py\u001b[0m in \u001b[0;36m_serialize\u001b[0;34m(self, nested_obj, attr, obj, **kwargs)\u001b[0m\n\u001b[1;32m    562\u001b[0m             \u001b[0;32mreturn\u001b[0m \u001b[0;32mNone\u001b[0m\u001b[0;34m\u001b[0m\u001b[0;34m\u001b[0m\u001b[0m\n\u001b[1;32m    563\u001b[0m         \u001b[0mmany\u001b[0m \u001b[0;34m=\u001b[0m \u001b[0mschema\u001b[0m\u001b[0;34m.\u001b[0m\u001b[0mmany\u001b[0m \u001b[0;32mor\u001b[0m \u001b[0mself\u001b[0m\u001b[0;34m.\u001b[0m\u001b[0mmany\u001b[0m\u001b[0;34m\u001b[0m\u001b[0;34m\u001b[0m\u001b[0m\n\u001b[0;32m--> 564\u001b[0;31m         \u001b[0;32mreturn\u001b[0m \u001b[0mschema\u001b[0m\u001b[0;34m.\u001b[0m\u001b[0mdump\u001b[0m\u001b[0;34m(\u001b[0m\u001b[0mnested_obj\u001b[0m\u001b[0;34m,\u001b[0m \u001b[0mmany\u001b[0m\u001b[0;34m=\u001b[0m\u001b[0mmany\u001b[0m\u001b[0;34m)\u001b[0m\u001b[0;34m\u001b[0m\u001b[0;34m\u001b[0m\u001b[0m\n\u001b[0m\u001b[1;32m    565\u001b[0m \u001b[0;34m\u001b[0m\u001b[0m\n\u001b[1;32m    566\u001b[0m     \u001b[0;32mdef\u001b[0m \u001b[0m_test_collection\u001b[0m\u001b[0;34m(\u001b[0m\u001b[0mself\u001b[0m\u001b[0;34m,\u001b[0m \u001b[0mvalue\u001b[0m\u001b[0;34m)\u001b[0m \u001b[0;34m->\u001b[0m \u001b[0;32mNone\u001b[0m\u001b[0;34m:\u001b[0m\u001b[0;34m\u001b[0m\u001b[0;34m\u001b[0m\u001b[0m\n",
            "\u001b[0;32m/usr/local/lib/python3.10/dist-packages/great_expectations/marshmallow__shade/schema.py\u001b[0m in \u001b[0;36mdump\u001b[0;34m(self, obj, many)\u001b[0m\n\u001b[1;32m    552\u001b[0m \u001b[0;34m\u001b[0m\u001b[0m\n\u001b[1;32m    553\u001b[0m         \u001b[0;32mif\u001b[0m \u001b[0mself\u001b[0m\u001b[0;34m.\u001b[0m\u001b[0m_has_processors\u001b[0m\u001b[0;34m(\u001b[0m\u001b[0mPRE_DUMP\u001b[0m\u001b[0;34m)\u001b[0m\u001b[0;34m:\u001b[0m\u001b[0;34m\u001b[0m\u001b[0;34m\u001b[0m\u001b[0m\n\u001b[0;32m--> 554\u001b[0;31m             processed_obj = self._invoke_dump_processors(\n\u001b[0m\u001b[1;32m    555\u001b[0m                 \u001b[0mPRE_DUMP\u001b[0m\u001b[0;34m,\u001b[0m \u001b[0mobj\u001b[0m\u001b[0;34m,\u001b[0m \u001b[0mmany\u001b[0m\u001b[0;34m=\u001b[0m\u001b[0mmany\u001b[0m\u001b[0;34m,\u001b[0m \u001b[0moriginal_data\u001b[0m\u001b[0;34m=\u001b[0m\u001b[0mobj\u001b[0m\u001b[0;34m\u001b[0m\u001b[0;34m\u001b[0m\u001b[0m\n\u001b[1;32m    556\u001b[0m             )\n",
            "\u001b[0;32m/usr/local/lib/python3.10/dist-packages/great_expectations/marshmallow__shade/schema.py\u001b[0m in \u001b[0;36m_invoke_dump_processors\u001b[0;34m(self, tag, data, many, original_data)\u001b[0m\n\u001b[1;32m   1072\u001b[0m         \u001b[0;31m# invoke those after invoking the non-pass_many processors which will expect\u001b[0m\u001b[0;34m\u001b[0m\u001b[0;34m\u001b[0m\u001b[0m\n\u001b[1;32m   1073\u001b[0m         \u001b[0;31m# to get a list of items.\u001b[0m\u001b[0;34m\u001b[0m\u001b[0;34m\u001b[0m\u001b[0m\n\u001b[0;32m-> 1074\u001b[0;31m         data = self._invoke_processors(\n\u001b[0m\u001b[1;32m   1075\u001b[0m             \u001b[0mtag\u001b[0m\u001b[0;34m,\u001b[0m \u001b[0mpass_many\u001b[0m\u001b[0;34m=\u001b[0m\u001b[0;32mFalse\u001b[0m\u001b[0;34m,\u001b[0m \u001b[0mdata\u001b[0m\u001b[0;34m=\u001b[0m\u001b[0mdata\u001b[0m\u001b[0;34m,\u001b[0m \u001b[0mmany\u001b[0m\u001b[0;34m=\u001b[0m\u001b[0mmany\u001b[0m\u001b[0;34m,\u001b[0m \u001b[0moriginal_data\u001b[0m\u001b[0;34m=\u001b[0m\u001b[0moriginal_data\u001b[0m\u001b[0;34m\u001b[0m\u001b[0;34m\u001b[0m\u001b[0m\n\u001b[1;32m   1076\u001b[0m         )\n",
            "\u001b[0;32m/usr/local/lib/python3.10/dist-packages/great_expectations/marshmallow__shade/schema.py\u001b[0m in \u001b[0;36m_invoke_processors\u001b[0;34m(self, tag, pass_many, data, many, original_data, **kwargs)\u001b[0m\n\u001b[1;32m   1231\u001b[0m                     \u001b[0mdata\u001b[0m \u001b[0;34m=\u001b[0m \u001b[0mprocessor\u001b[0m\u001b[0;34m(\u001b[0m\u001b[0mdata\u001b[0m\u001b[0;34m,\u001b[0m \u001b[0moriginal_data\u001b[0m\u001b[0;34m,\u001b[0m \u001b[0mmany\u001b[0m\u001b[0;34m=\u001b[0m\u001b[0mmany\u001b[0m\u001b[0;34m,\u001b[0m \u001b[0;34m**\u001b[0m\u001b[0mkwargs\u001b[0m\u001b[0;34m)\u001b[0m\u001b[0;34m\u001b[0m\u001b[0;34m\u001b[0m\u001b[0m\n\u001b[1;32m   1232\u001b[0m                 \u001b[0;32melse\u001b[0m\u001b[0;34m:\u001b[0m\u001b[0;34m\u001b[0m\u001b[0;34m\u001b[0m\u001b[0m\n\u001b[0;32m-> 1233\u001b[0;31m                     \u001b[0mdata\u001b[0m \u001b[0;34m=\u001b[0m \u001b[0mprocessor\u001b[0m\u001b[0;34m(\u001b[0m\u001b[0mdata\u001b[0m\u001b[0;34m,\u001b[0m \u001b[0mmany\u001b[0m\u001b[0;34m=\u001b[0m\u001b[0mmany\u001b[0m\u001b[0;34m,\u001b[0m \u001b[0;34m**\u001b[0m\u001b[0mkwargs\u001b[0m\u001b[0;34m)\u001b[0m\u001b[0;34m\u001b[0m\u001b[0;34m\u001b[0m\u001b[0m\n\u001b[0m\u001b[1;32m   1234\u001b[0m         \u001b[0;32mreturn\u001b[0m \u001b[0mdata\u001b[0m\u001b[0;34m\u001b[0m\u001b[0;34m\u001b[0m\u001b[0m\n\u001b[1;32m   1235\u001b[0m \u001b[0;34m\u001b[0m\u001b[0m\n",
            "\u001b[0;32m/usr/local/lib/python3.10/dist-packages/great_expectations/core/expectation_validation_result.py\u001b[0m in \u001b[0;36mconvert_result_to_serializable\u001b[0;34m(self, data, **kwargs)\u001b[0m\n\u001b[1;32m    347\u001b[0m         \u001b[0mdata\u001b[0m \u001b[0;34m=\u001b[0m \u001b[0mdeepcopy\u001b[0m\u001b[0;34m(\u001b[0m\u001b[0mdata\u001b[0m\u001b[0;34m)\u001b[0m\u001b[0;34m\u001b[0m\u001b[0;34m\u001b[0m\u001b[0m\n\u001b[1;32m    348\u001b[0m         \u001b[0;32mif\u001b[0m \u001b[0misinstance\u001b[0m\u001b[0;34m(\u001b[0m\u001b[0mdata\u001b[0m\u001b[0;34m,\u001b[0m \u001b[0mExpectationValidationResult\u001b[0m\u001b[0;34m)\u001b[0m\u001b[0;34m:\u001b[0m\u001b[0;34m\u001b[0m\u001b[0;34m\u001b[0m\u001b[0m\n\u001b[0;32m--> 349\u001b[0;31m             \u001b[0mdata\u001b[0m\u001b[0;34m.\u001b[0m\u001b[0mresult\u001b[0m \u001b[0;34m=\u001b[0m \u001b[0mconvert_to_json_serializable\u001b[0m\u001b[0;34m(\u001b[0m\u001b[0mdata\u001b[0m\u001b[0;34m.\u001b[0m\u001b[0mresult\u001b[0m\u001b[0;34m)\u001b[0m\u001b[0;34m\u001b[0m\u001b[0;34m\u001b[0m\u001b[0m\n\u001b[0m\u001b[1;32m    350\u001b[0m         \u001b[0;32melif\u001b[0m \u001b[0misinstance\u001b[0m\u001b[0;34m(\u001b[0m\u001b[0mdata\u001b[0m\u001b[0;34m,\u001b[0m \u001b[0mdict\u001b[0m\u001b[0;34m)\u001b[0m\u001b[0;34m:\u001b[0m\u001b[0;34m\u001b[0m\u001b[0;34m\u001b[0m\u001b[0m\n\u001b[1;32m    351\u001b[0m             \u001b[0mdata\u001b[0m\u001b[0;34m[\u001b[0m\u001b[0;34m\"result\"\u001b[0m\u001b[0;34m]\u001b[0m \u001b[0;34m=\u001b[0m \u001b[0mconvert_to_json_serializable\u001b[0m\u001b[0;34m(\u001b[0m\u001b[0mdata\u001b[0m\u001b[0;34m.\u001b[0m\u001b[0mget\u001b[0m\u001b[0;34m(\u001b[0m\u001b[0;34m\"result\"\u001b[0m\u001b[0;34m)\u001b[0m\u001b[0;34m)\u001b[0m\u001b[0;34m\u001b[0m\u001b[0;34m\u001b[0m\u001b[0m\n",
            "\u001b[0;32m/usr/local/lib/python3.10/dist-packages/great_expectations/core/util.py\u001b[0m in \u001b[0;36mconvert_to_json_serializable\u001b[0;34m(data)\u001b[0m\n\u001b[1;32m    184\u001b[0m         \u001b[0;32mfor\u001b[0m \u001b[0mkey\u001b[0m \u001b[0;32min\u001b[0m \u001b[0mdata\u001b[0m\u001b[0;34m:\u001b[0m\u001b[0;34m\u001b[0m\u001b[0;34m\u001b[0m\u001b[0m\n\u001b[1;32m    185\u001b[0m             \u001b[0;31m# A pandas index can be numeric, and a dict key can be numeric, but a json key must be a string\u001b[0m\u001b[0;34m\u001b[0m\u001b[0;34m\u001b[0m\u001b[0m\n\u001b[0;32m--> 186\u001b[0;31m             \u001b[0mnew_dict\u001b[0m\u001b[0;34m[\u001b[0m\u001b[0mstr\u001b[0m\u001b[0;34m(\u001b[0m\u001b[0mkey\u001b[0m\u001b[0;34m)\u001b[0m\u001b[0;34m]\u001b[0m \u001b[0;34m=\u001b[0m \u001b[0mconvert_to_json_serializable\u001b[0m\u001b[0;34m(\u001b[0m\u001b[0mdata\u001b[0m\u001b[0;34m[\u001b[0m\u001b[0mkey\u001b[0m\u001b[0;34m]\u001b[0m\u001b[0;34m)\u001b[0m\u001b[0;34m\u001b[0m\u001b[0;34m\u001b[0m\u001b[0m\n\u001b[0m\u001b[1;32m    187\u001b[0m \u001b[0;34m\u001b[0m\u001b[0m\n\u001b[1;32m    188\u001b[0m         \u001b[0;32mreturn\u001b[0m \u001b[0mnew_dict\u001b[0m\u001b[0;34m\u001b[0m\u001b[0;34m\u001b[0m\u001b[0m\n",
            "\u001b[0;32m/usr/local/lib/python3.10/dist-packages/great_expectations/core/util.py\u001b[0m in \u001b[0;36mconvert_to_json_serializable\u001b[0;34m(data)\u001b[0m\n\u001b[1;32m    184\u001b[0m         \u001b[0;32mfor\u001b[0m \u001b[0mkey\u001b[0m \u001b[0;32min\u001b[0m \u001b[0mdata\u001b[0m\u001b[0;34m:\u001b[0m\u001b[0;34m\u001b[0m\u001b[0;34m\u001b[0m\u001b[0m\n\u001b[1;32m    185\u001b[0m             \u001b[0;31m# A pandas index can be numeric, and a dict key can be numeric, but a json key must be a string\u001b[0m\u001b[0;34m\u001b[0m\u001b[0;34m\u001b[0m\u001b[0m\n\u001b[0;32m--> 186\u001b[0;31m             \u001b[0mnew_dict\u001b[0m\u001b[0;34m[\u001b[0m\u001b[0mstr\u001b[0m\u001b[0;34m(\u001b[0m\u001b[0mkey\u001b[0m\u001b[0;34m)\u001b[0m\u001b[0;34m]\u001b[0m \u001b[0;34m=\u001b[0m \u001b[0mconvert_to_json_serializable\u001b[0m\u001b[0;34m(\u001b[0m\u001b[0mdata\u001b[0m\u001b[0;34m[\u001b[0m\u001b[0mkey\u001b[0m\u001b[0;34m]\u001b[0m\u001b[0;34m)\u001b[0m\u001b[0;34m\u001b[0m\u001b[0;34m\u001b[0m\u001b[0m\n\u001b[0m\u001b[1;32m    187\u001b[0m \u001b[0;34m\u001b[0m\u001b[0m\n\u001b[1;32m    188\u001b[0m         \u001b[0;32mreturn\u001b[0m \u001b[0mnew_dict\u001b[0m\u001b[0;34m\u001b[0m\u001b[0;34m\u001b[0m\u001b[0m\n",
            "\u001b[0;32m/usr/local/lib/python3.10/dist-packages/great_expectations/core/util.py\u001b[0m in \u001b[0;36mconvert_to_json_serializable\u001b[0;34m(data)\u001b[0m\n\u001b[1;32m    255\u001b[0m                 \u001b[0mvalue_name\u001b[0m\u001b[0;34m:\u001b[0m \u001b[0mconvert_to_json_serializable\u001b[0m\u001b[0;34m(\u001b[0m\u001b[0mval\u001b[0m\u001b[0;34m)\u001b[0m\u001b[0;34m,\u001b[0m\u001b[0;34m\u001b[0m\u001b[0;34m\u001b[0m\u001b[0m\n\u001b[1;32m    256\u001b[0m             }\n\u001b[0;32m--> 257\u001b[0;31m             \u001b[0;32mfor\u001b[0m \u001b[0midx\u001b[0m\u001b[0;34m,\u001b[0m \u001b[0mval\u001b[0m \u001b[0;32min\u001b[0m \u001b[0mdata\u001b[0m\u001b[0;34m.\u001b[0m\u001b[0miteritems\u001b[0m\u001b[0;34m(\u001b[0m\u001b[0;34m)\u001b[0m\u001b[0;34m\u001b[0m\u001b[0;34m\u001b[0m\u001b[0m\n\u001b[0m\u001b[1;32m    258\u001b[0m         ]\n\u001b[1;32m    259\u001b[0m \u001b[0;34m\u001b[0m\u001b[0m\n",
            "\u001b[0;32m/usr/local/lib/python3.10/dist-packages/pandas/core/generic.py\u001b[0m in \u001b[0;36m__getattr__\u001b[0;34m(self, name)\u001b[0m\n\u001b[1;32m   5987\u001b[0m         ):\n\u001b[1;32m   5988\u001b[0m             \u001b[0;32mreturn\u001b[0m \u001b[0mself\u001b[0m\u001b[0;34m[\u001b[0m\u001b[0mname\u001b[0m\u001b[0;34m]\u001b[0m\u001b[0;34m\u001b[0m\u001b[0;34m\u001b[0m\u001b[0m\n\u001b[0;32m-> 5989\u001b[0;31m         \u001b[0;32mreturn\u001b[0m \u001b[0mobject\u001b[0m\u001b[0;34m.\u001b[0m\u001b[0m__getattribute__\u001b[0m\u001b[0;34m(\u001b[0m\u001b[0mself\u001b[0m\u001b[0;34m,\u001b[0m \u001b[0mname\u001b[0m\u001b[0;34m)\u001b[0m\u001b[0;34m\u001b[0m\u001b[0;34m\u001b[0m\u001b[0m\n\u001b[0m\u001b[1;32m   5990\u001b[0m \u001b[0;34m\u001b[0m\u001b[0m\n\u001b[1;32m   5991\u001b[0m     \u001b[0;32mdef\u001b[0m \u001b[0m__setattr__\u001b[0m\u001b[0;34m(\u001b[0m\u001b[0mself\u001b[0m\u001b[0;34m,\u001b[0m \u001b[0mname\u001b[0m\u001b[0;34m:\u001b[0m \u001b[0mstr\u001b[0m\u001b[0;34m,\u001b[0m \u001b[0mvalue\u001b[0m\u001b[0;34m)\u001b[0m \u001b[0;34m->\u001b[0m \u001b[0;32mNone\u001b[0m\u001b[0;34m:\u001b[0m\u001b[0;34m\u001b[0m\u001b[0;34m\u001b[0m\u001b[0m\n",
            "\u001b[0;31mAttributeError\u001b[0m: 'Series' object has no attribute 'iteritems'"
          ]
        }
      ],
      "source": [
        "results = context.run_validation_operator('my_validation_operator', assets_to_validate=[batch])"
      ]
    },
    {
      "cell_type": "markdown",
      "metadata": {
        "id": "EjEMlGrDunHD"
      },
      "source": [
        "Una ejecución de validación puede incluir múltiples lotes y suites de expectativas. De esta manera, es posible probar varios archivos en la misma ejecución. Compara esto con cómo una ejecución de tu suite de pruebas puede probar varios módulos de software.\n",
        "\n",
        "No especificamos explícitamente la suite de expectativas a usar con nuestro lote de datos, porque el `batch` lleva un registro de la suite de expectativas para nosotros. Ya vimos esto cuando recuperamos la suite de ella al principio de esta sección.\n",
        "\n",
        "Ahora que hemos pasado por eso, echemos un vistazo a los resultados."
      ]
    },
    {
      "cell_type": "code",
      "execution_count": null,
      "metadata": {
        "scrolled": true,
        "id": "W7Sun_UCunHD",
        "outputId": "0a7349cc-89df-42f2-bcd2-06782f94b3bb",
        "colab": {
          "base_uri": "https://localhost:8080/",
          "height": 141
        }
      },
      "outputs": [
        {
          "output_type": "error",
          "ename": "NameError",
          "evalue": "name 'results' is not defined",
          "traceback": [
            "\u001b[0;31m---------------------------------------------------------------------------\u001b[0m",
            "\u001b[0;31mNameError\u001b[0m                                 Traceback (most recent call last)",
            "\u001b[0;32m<ipython-input-22-100f62972f2f>\u001b[0m in \u001b[0;36m<cell line: 1>\u001b[0;34m()\u001b[0m\n\u001b[0;32m----> 1\u001b[0;31m \u001b[0mresults\u001b[0m\u001b[0;34m\u001b[0m\u001b[0;34m\u001b[0m\u001b[0m\n\u001b[0m",
            "\u001b[0;31mNameError\u001b[0m: name 'results' is not defined"
          ]
        }
      ],
      "source": [
        "results"
      ]
    },
    {
      "cell_type": "markdown",
      "metadata": {
        "id": "3AcGg1Y9unHD"
      },
      "source": [
        "Esto se llama un _resultado de validación_. Los resultados de validación se guardan en el almacén de validaciones, que por defecto es el directorio `great_expectations/uncommitted/validations`."
      ]
    },
    {
      "cell_type": "code",
      "execution_count": null,
      "metadata": {
        "id": "Mzog7gTsunHD",
        "outputId": "d63154de-71bd-4756-e3e0-eb257d6718ff",
        "colab": {
          "base_uri": "https://localhost:8080/"
        }
      },
      "outputs": [
        {
          "output_type": "stream",
          "name": "stdout",
          "text": [
            "great_expectations/uncommitted/validations\n",
            "\n",
            "0 directories, 0 files\n"
          ]
        }
      ],
      "source": [
        "!tree -n great_expectations/uncommitted/validations"
      ]
    },
    {
      "cell_type": "markdown",
      "metadata": {
        "id": "o_lUPTL1unHD"
      },
      "source": [
        "Great Expectations también te permite configurar otros sistemas de almacenamiento como almacén de validaciones, como tu servicio de almacenamiento en la nube favorito o una base de datos SQL. ¡Consulta [almacenes de metadatos](https://docs.greatexpectations.io/en/latest/guides/how_to_guides/configuring_metadata_stores.html) si deseas aprender más!\n",
        "\n",
        "\n",
        "\n",
        "\n",
        "\n",
        "\n",
        "\n",
        "\n",
        "\n"
      ]
    },
    {
      "cell_type": "markdown",
      "metadata": {
        "id": "nrUWacsdunHD"
      },
      "source": [
        "<a id=\"section-data-docs\"></a>\n",
        "## Data Docs"
      ]
    },
    {
      "cell_type": "markdown",
      "metadata": {
        "id": "a3vm-8biunHD"
      },
      "source": [
        "Podemos renderizar estos resultados en un informe amigable, llamado un documento de datos (data doc). Estos documentos de datos describirán las expectativas que los datos deben cumplir, así como las métricas que detallan cuán bien los datos cumplen con los requisitos. Así es como Great Expectations combina las pruebas con la documentación.\n",
        "\n",
        "Recuerda que ya construimos los documentos de datos usando `my_validation_operator` en la sección anterior. ¡Vamos a revisarlos ahora! Te llevaremos a la página de índice, asegúrate de explorar un poco. En la pestaña `Validation Results` encontrarás la ejecución de validación que realizamos anteriormente. Haz clic en ella para obtener un informe amigable sobre sus resultados. En la pestaña `Expectation Suites`, puedes encontrar un documento que detalla las expectativas establecidas por nuestra suite `check_avocado_data`. Verás las expectativas que ejecutamos anteriormente reflejadas en las diferentes secciones.\n",
        "\n",
        "Si estás ejecutando el tutorial en tu sistema operativo, ejecuta este comando para abrir los documentos de datos:"
      ]
    },
    {
      "cell_type": "code",
      "execution_count": null,
      "metadata": {
        "id": "Lvf8dyb3unHD"
      },
      "outputs": [],
      "source": [
        "context.open_data_docs()"
      ]
    },
    {
      "cell_type": "markdown",
      "metadata": {
        "id": "Di3VY9MkunHD"
      },
      "source": [
        "Si estás ejecutando en Docker, prueba este enlace [aquí](/view/great_expectations/uncommitted/data_docs/local_site/index.html). Si los enlaces no funcionan en tu navegador, podrías intentar usar el [navegador de archivos de jupyter](/tree/great_expectations/uncommitted/data_docs/local_site). No es ideal, pero funciona.\n",
        "\n",
        "De lo contrario, puedes ver los resultados de nuestra ejecución [aquí](https://datarootsio.github.io/tutorial-great-expectations/validation)."
      ]
    },
    {
      "cell_type": "markdown",
      "metadata": {
        "id": "82xeyW90unHD"
      },
      "source": [
        "Al igual que con los resultados de validación, se pueden configurar diferentes sistemas de almacenamiento para tus documentos de datos. Por ejemplo, podrías alojarlos en un almacenamiento en la nube para facilitar su visualización. Consulta [configurando documentos de datos](https://docs.greatexpectations.io/en/latest/guides/how_to_guides/configuring_data_docs.html) para obtener más información."
      ]
    },
    {
      "cell_type": "markdown",
      "metadata": {
        "id": "YNh0aTOaunHE"
      },
      "source": [
        "<a id=\"section-data-context\"></a>\n",
        "## Data Context"
      ]
    },
    {
      "cell_type": "markdown",
      "metadata": {
        "id": "2U5runS7unHE"
      },
      "source": [
        "Antes de continuar, tomemos un momento para observar el `DataContext`, que representa tu configuración de Great Expectations. Consiste en un directorio que contiene archivos de configuración, llamado `great_expectations` por defecto.\n",
        "\n",
        "Nota: estamos omitiendo el directorio `uncommitted` aquí. Contiene archivos de salida (como documentos de datos renderizados), que no son parte de la configuración."
      ]
    },
    {
      "cell_type": "code",
      "execution_count": null,
      "metadata": {
        "scrolled": false,
        "id": "_bh0hgp2unHE",
        "outputId": "cb489d1e-dbce-42e7-de8c-e859ca63fcf1",
        "colab": {
          "base_uri": "https://localhost:8080/"
        }
      },
      "outputs": [
        {
          "output_type": "stream",
          "name": "stdout",
          "text": [
            "great_expectations\n",
            "├── checkpoints\n",
            "├── expectations\n",
            "│   └── check_avocado_data.json\n",
            "├── great_expectations.yml\n",
            "├── notebooks\n",
            "│   ├── pandas\n",
            "│   │   └── validation_playground.ipynb\n",
            "│   ├── spark\n",
            "│   │   └── validation_playground.ipynb\n",
            "│   └── sql\n",
            "│       └── validation_playground.ipynb\n",
            "└── plugins\n",
            "    └── custom_data_docs\n",
            "        └── styles\n",
            "            └── data_docs_custom_styles.css\n",
            "\n",
            "9 directories, 6 files\n"
          ]
        }
      ],
      "source": [
        "!tree great_expectations -nI 'uncommitted'"
      ]
    },
    {
      "cell_type": "markdown",
      "metadata": {
        "id": "uv1KIUvRunHE"
      },
      "source": [
        "La configuración principal se encuentra en `great_expectations.yml`. No entraremos en todos los detalles aquí, puedes referirte a la [referencia de contexto de datos para eso](https://docs.greatexpectations.io/en/latest/reference/spare_parts/data_context_reference.html). En cambio, solo introduciremos algunos conceptos con los que querrás familiarizarte:\n",
        "\n",
        "- Una **fuente de datos** (**data source**) es algo que puede proporcionar datos a Great Expectations, como una base de datos SQL.\n",
        "- Un **activo de datos** (**data asset**) es un conjunto de datos que reside en una fuente de datos, como una tabla SQL.\n",
        "\n",
        "En la configuración que proporcionamos, hay una *fuente de datos* llamada `data_dir`, que es simplemente una carpeta con archivos csv dentro. El archivo `avocado.csv` con el que estamos trabajando sería un activo de datos. Puedes encontrar más información sobre las fuentes de datos en la [referencia de contexto de datos](https://docs.greatexpectations.io/en/latest/reference/spare_parts/data_context_reference.html#datasources). Para configurar las tuyas, consulta las [guías de configuración de fuentes de datos](https://docs.greatexpectations.io/en/latest/guides/how_to_guides/configuring_datasources.html).\n",
        "\n",
        "- Un **operador de validación** (**validation operator**) especifica qué se debe hacer con los resultados de tu validación. Algunos ejemplos podrían ser escribir los resultados de la validación en una base de datos, publicar documentos de datos o enviar una notificación a un canal de Slack.\n",
        "Si deseas saber más, puedes consultar las páginas de documentación de [operadores de validación y acciones](https://docs.greatexpectations.io/en/latest/reference/core_concepts/validation_operators_and_actions.html) y [cómo agregar un operador de validación](https://docs.greatexpectations.io/en/latest/guides/how_to_guides/validation/how_to_add_a_validation_operator.html).\n",
        "\n",
        "- Los almacenes (o **stores**) pueden usarse para configurar cómo se almacenarán los datos de expectativas y validación. Consulta [configuración de almacenes de metadatos](https://docs.greatexpectations.io/en/latest/guides/how_to_guides/configuring_metadata_stores.html) si estás interesado.\n",
        "\n",
        "Todos estos están configurados en el archivo `great_expectations.yml`. Echaremos un breve vistazo a su contenido ahora, pero no te preocupes demasiado, esto está aquí solo con fines ilustrativos."
      ]
    },
    {
      "cell_type": "code",
      "execution_count": null,
      "metadata": {
        "scrolled": false,
        "id": "Hh1S4p9BunHE",
        "outputId": "018f3b07-deea-4234-e06d-3f3de1888c2d",
        "colab": {
          "base_uri": "https://localhost:8080/"
        }
      },
      "outputs": [
        {
          "output_type": "stream",
          "name": "stdout",
          "text": [
            "# Welcome to Great Expectations! Always know what to expect from your data.\n",
            "#\n",
            "# Here you can define datasources, batch kwargs generators, integrations and\n",
            "# more. This file is intended to be committed to your repo. For help with\n",
            "# configuration please:\n",
            "#   - Read our docs: https://docs.greatexpectations.io/en/latest/how_to_guides/spare_parts/data_context_reference.html#configuration\n",
            "#   - Join our slack channel: http://greatexpectations.io/slack\n",
            "\n",
            "# config_version refers to the syntactic version of this config file, and is used in maintaining backwards compatibility\n",
            "# It is auto-generated and usually does not need to be changed.\n",
            "config_version: 2.0\n",
            "\n",
            "# Datasources tell Great Expectations where your data lives and how to get it.\n",
            "# You can use the CLI command `great_expectations datasource new` to help you\n",
            "# add a new datasource. Read more at https://docs.greatexpectations.io/en/latest/reference/core_concepts/datasource_reference.html\n",
            "datasources:\n",
            "  data_dir:\n",
            "    batch_kwargs_generators:\n",
            "      subdir_reader:\n",
            "        class_name: SubdirReaderBatchKwargsGenerator\n",
            "        base_directory: ../data\n",
            "    module_name: great_expectations.datasource\n",
            "    data_asset_type:\n",
            "      module_name: great_expectations.dataset\n",
            "      class_name: PandasDataset\n",
            "    class_name: PandasDatasource\n",
            "\n",
            "# This config file supports variable substitution which enables: 1) keeping\n",
            "# secrets out of source control & 2) environment-based configuration changes\n",
            "# such as staging vs prod.\n",
            "#\n",
            "# When GE encounters substitution syntax (like `my_key: ${my_value}` or\n",
            "# `my_key: $my_value`) in the great_expectations.yml file, it will attempt\n",
            "# to replace the value of `my_key` with the value from an environment\n",
            "# variable `my_value` or a corresponding key read from this config file,\n",
            "# which is defined through the `config_variables_file_path`.\n",
            "# Environment variables take precedence over variables defined here.\n",
            "#\n",
            "# Substitution values defined here can be a simple (non-nested) value,\n",
            "# nested value such as a dictionary, or an environment variable (i.e. ${ENV_VAR})\n",
            "#\n",
            "#\n",
            "# https://docs.greatexpectations.io/en/latest/guides/how_to_guides/configuring_data_contexts/how_to_use_a_yaml_file_or_environment_variables_to_populate_credentials.html\n",
            "\n",
            "\n",
            "config_variables_file_path: uncommitted/config_variables.yml\n",
            "\n",
            "# The plugins_directory will be added to your python path for custom modules\n",
            "# used to override and extend Great Expectations.\n",
            "plugins_directory: plugins/\n",
            "\n",
            "# Validation Operators are customizable workflows that bundle the validation of\n",
            "# one or more expectation suites and subsequent actions. The example below\n",
            "# stores validations and send a slack notification. To read more about\n",
            "# customizing and extending these, read: https://docs.greatexpectations.io/en/latest/reference/core_concepts/validation_operators_and_actions.html\n",
            "validation_operators:\n",
            "  my_validation_operator:\n",
            "    # To learn how to configure sending Slack notifications during evaluation\n",
            "    # (and other customizations), read: https://docs.greatexpectations.io/en/latest/autoapi/great_expectations/validation_operators/index.html#great_expectations.validation_operators.ActionListValidationOperator\n",
            "    class_name: ActionListValidationOperator\n",
            "    action_list:\n",
            "    - name: store_validation_result\n",
            "      action:\n",
            "        class_name: StoreValidationResultAction\n",
            "    - name: update_data_docs\n",
            "      action:\n",
            "        class_name: UpdateDataDocsAction\n",
            "\n",
            "stores:\n",
            "# Stores are configurable places to store things like Expectations, Validations\n",
            "# Data Docs, and more. These are for advanced users only - most users can simply\n",
            "# leave this section alone.\n",
            "#\n",
            "# Three stores are required: expectations, validations, and\n",
            "# evaluation_parameters, and must exist with a valid store entry. Additional\n",
            "# stores can be configured for uses such as data_docs, validation_operators, etc.\n",
            "  expectations_store:\n",
            "    class_name: ExpectationsStore\n",
            "    store_backend:\n",
            "      class_name: TupleFilesystemStoreBackend\n",
            "      base_directory: expectations/\n",
            "\n",
            "  validations_store:\n",
            "    class_name: ValidationsStore\n",
            "    store_backend:\n",
            "      class_name: TupleFilesystemStoreBackend\n",
            "      base_directory: uncommitted/validations/\n",
            "\n",
            "  evaluation_parameter_store:\n",
            "    # Evaluation Parameters enable dynamic expectations. Read more here:\n",
            "    # https://docs.greatexpectations.io/en/latest/reference/core_concepts/evaluation_parameters.html\n",
            "    class_name: EvaluationParameterStore\n",
            "\n",
            "expectations_store_name: expectations_store\n",
            "validations_store_name: validations_store\n",
            "evaluation_parameter_store_name: evaluation_parameter_store\n",
            "\n",
            "data_docs_sites:\n",
            "  # Data Docs make it simple to visualize data quality in your project. These\n",
            "  # include Expectations, Validations & Profiles. The are built for all\n",
            "  # Datasources from JSON artifacts in the local repo including validations &\n",
            "  # profiles from the uncommitted directory. Read more at https://docs.greatexpectations.io/en/latest/reference/core_concepts/data_docs.html\n",
            "  local_site:\n",
            "    class_name: SiteBuilder\n",
            "    # set to false to hide how-to buttons in Data Docs\n",
            "    show_how_to_buttons: true\n",
            "    store_backend:\n",
            "      class_name: TupleFilesystemStoreBackend\n",
            "      base_directory: uncommitted/data_docs/local_site/\n",
            "    site_index_builder:\n",
            "      class_name: DefaultSiteIndexBuilder\n",
            "\n",
            "anonymous_usage_statistics:\n",
            "  data_context_id: 95d69e85-c578-4eae-9368-efa33a7304c5\n",
            "  enabled: true\n",
            "notebooks:\n"
          ]
        }
      ],
      "source": [
        "!cat great_expectations/great_expectations.yml"
      ]
    },
    {
      "cell_type": "markdown",
      "metadata": {
        "id": "dJUGuEV3unHE"
      },
      "source": [
        "Además, también tenemos dos directorios importantes: `expectations`, que contiene nuestras suites de expectativas, y `checkpoints`, que revisaremos a continuación.\n",
        "\n",
        "El siguiente diagrama muestra una representación de nuestro contexto de datos.\n",
        "<img src=\"https://github.com/datarootsio/tutorial-great-expectations/blob/main/figures/data_context.png?raw=1\" width=800px>"
      ]
    },
    {
      "cell_type": "markdown",
      "metadata": {
        "id": "P6wjh3n8unHE"
      },
      "source": [
        "<a id=\"section-checkpoints\"></a>\n",
        "## Checkpoints"
      ]
    },
    {
      "cell_type": "markdown",
      "metadata": {
        "id": "1oP5Ub-TunHE"
      },
      "source": [
        "Recuerda cómo lanzamos una ejecución de validación en la sección [Expectation Suite](#section-expectation-suite). Allí, escribimos código para ejecutar la validación en el lote de datos y la suite de expectativas que definimos anteriormente. Si agrupamos todos estos parámetros de ejecución en un solo archivo de configuración, podríamos volver a ejecutar fácilmente la validación, por ejemplo, cada vez que cambien nuestros datos. Dicho archivo de configuración se llama `Checkpoint` en Great Expectations.\n",
        "\n",
        "Como recordatorio rápido, para ejecutar una validación necesitamos:\n",
        "- Un *operador de validación* (o *validation operator*) para manejar los resultados de la validación.\n",
        "- Una lista de *batches*, cada uno compuesto por\n",
        "  - Un lote de datos a verificar\n",
        "  - Suites de expectativas para comparar\n",
        "\n",
        "Para crear un checkpoint, simplemente creamos un archivo en el directorio `checkpoints` de nuestra configuración de great_expectations. Crearemos el archivo manualmente ahora para fines de demostración, pero al hacerlo en tu propio proyecto probablemente querrás usar la CLI [[The Great Expectations CLI]](#section-cli), que te guiará en el proceso."
      ]
    },
    {
      "cell_type": "code",
      "execution_count": null,
      "metadata": {
        "id": "Js61XYbkunHE",
        "outputId": "5fa7f7bc-09c5-409c-9d46-fd06e148645a",
        "colab": {
          "base_uri": "https://localhost:8080/"
        }
      },
      "outputs": [
        {
          "output_type": "stream",
          "name": "stdout",
          "text": [
            "Writing great_expectations/checkpoints/avocado_data.yml\n"
          ]
        }
      ],
      "source": [
        "%%writefile great_expectations/checkpoints/avocado_data.yml\n",
        "\n",
        "validation_operator_name: my_validation_operator\n",
        "batches:\n",
        "  - batch_kwargs:\n",
        "      path: data/avocado.csv\n",
        "      datasource: data_dir\n",
        "      data_asset_name: avocado\n",
        "      reader_method: read_csv\n",
        "      reader_options:\n",
        "        index_col: 0\n",
        "    expectation_suite_names:\n",
        "      - check_avocado_data"
      ]
    },
    {
      "cell_type": "markdown",
      "metadata": {
        "id": "i2l9flxBunHE"
      },
      "source": [
        "La propiedad `batch_kwargs` especifica cómo debe cargarse el activo de datos. Es posible que reconozcas los parámetros de cuando cargamos por primera vez el archivo `avocado.csv`.\n",
        "\n",
        "Este también podría ser un buen momento para señalar que nuestro lote de datos se leerá mediante pandas internamente (lo configuramos en la fuente de datos `data_dir`). En `batch_kwargs`, especificamos que nos gustaría usar el método `read_csv` de pandas, que recibirá el diccionario `reader_options` como parámetros adicionales.\n",
        "\n",
        "Para obtener más información sobre los lotes, consulta la guía [creando batches](https://docs.greatexpectations.io/en/latest/guides/how_to_guides/creating_batches.html).\n",
        "\n",
        "El checkpoint se puede ejecutar usando la CLI de great_expectations:"
      ]
    },
    {
      "cell_type": "code",
      "execution_count": null,
      "metadata": {
        "id": "Ge8ifvbhunHE",
        "outputId": "7c9dbff5-f81f-4c5f-a427-763b0539af3c",
        "colab": {
          "base_uri": "https://localhost:8080/"
        }
      },
      "outputs": [
        {
          "output_type": "stream",
          "name": "stdout",
          "text": [
            "Using v3 (Batch Request) API\u001b[0m\n",
            "Checkpoint store named 'checkpoint_store' is not a configured store, so will try to use default Checkpoint store.\n",
            "  Please update your configuration to the new version number 3.0 in order to use the new 'Checkpoint Store' feature.\n",
            "  Visit https://docs.greatexpectations.io/docs/guides/miscellaneous/migration_guide#migrating-to-the-batch-request-v3-api to learn more about the upgrade process.\n",
            "Error running action with name store_validation_result\n",
            "Traceback (most recent call last):\n",
            "  File \"/usr/local/lib/python3.10/dist-packages/great_expectations/validation_operators/validation_operators.py\", line 458, in _run_actions\n",
            "    action_result = self.actions[action[\"name\"]].run(\n",
            "  File \"/usr/local/lib/python3.10/dist-packages/great_expectations/checkpoint/actions.py\", line 72, in run\n",
            "    return self._run(\n",
            "  File \"/usr/local/lib/python3.10/dist-packages/great_expectations/checkpoint/actions.py\", line 826, in _run\n",
            "    return_val = self.target_store.set(\n",
            "  File \"/usr/local/lib/python3.10/dist-packages/great_expectations/data_context/store/store.py\", line 169, in set\n",
            "    self.key_to_tuple(key), self.serialize(value), **kwargs\n",
            "  File \"/usr/local/lib/python3.10/dist-packages/great_expectations/data_context/store/validations_store.py\", line 172, in serialize\n",
            "    return self._expectationSuiteValidationResultSchema.dumps(\n",
            "  File \"/usr/local/lib/python3.10/dist-packages/great_expectations/marshmallow__shade/schema.py\", line 584, in dumps\n",
            "    serialized = self.dump(obj, many=many)\n",
            "  File \"/usr/local/lib/python3.10/dist-packages/great_expectations/marshmallow__shade/schema.py\", line 560, in dump\n",
            "    result = self._serialize(processed_obj, many=many)\n",
            "  File \"/usr/local/lib/python3.10/dist-packages/great_expectations/marshmallow__shade/schema.py\", line 524, in _serialize\n",
            "    value = field_obj.serialize(attr_name, obj, accessor=self.get_attribute)\n",
            "  File \"/usr/local/lib/python3.10/dist-packages/great_expectations/marshmallow__shade/fields.py\", line 309, in serialize\n",
            "    return self._serialize(value, attr, obj, **kwargs)\n",
            "  File \"/usr/local/lib/python3.10/dist-packages/great_expectations/marshmallow__shade/fields.py\", line 697, in _serialize\n",
            "    return [self.inner._serialize(each, attr, obj, **kwargs) for each in value]\n",
            "  File \"/usr/local/lib/python3.10/dist-packages/great_expectations/marshmallow__shade/fields.py\", line 697, in <listcomp>\n",
            "    return [self.inner._serialize(each, attr, obj, **kwargs) for each in value]\n",
            "  File \"/usr/local/lib/python3.10/dist-packages/great_expectations/marshmallow__shade/fields.py\", line 564, in _serialize\n",
            "    return schema.dump(nested_obj, many=many)\n",
            "  File \"/usr/local/lib/python3.10/dist-packages/great_expectations/marshmallow__shade/schema.py\", line 554, in dump\n",
            "    processed_obj = self._invoke_dump_processors(\n",
            "  File \"/usr/local/lib/python3.10/dist-packages/great_expectations/marshmallow__shade/schema.py\", line 1074, in _invoke_dump_processors\n",
            "    data = self._invoke_processors(\n",
            "  File \"/usr/local/lib/python3.10/dist-packages/great_expectations/marshmallow__shade/schema.py\", line 1233, in _invoke_processors\n",
            "    data = processor(data, many=many, **kwargs)\n",
            "  File \"/usr/local/lib/python3.10/dist-packages/great_expectations/core/expectation_validation_result.py\", line 349, in convert_result_to_serializable\n",
            "    data.result = convert_to_json_serializable(data.result)\n",
            "  File \"/usr/local/lib/python3.10/dist-packages/great_expectations/core/util.py\", line 186, in convert_to_json_serializable\n",
            "    new_dict[str(key)] = convert_to_json_serializable(data[key])\n",
            "  File \"/usr/local/lib/python3.10/dist-packages/great_expectations/core/util.py\", line 186, in convert_to_json_serializable\n",
            "    new_dict[str(key)] = convert_to_json_serializable(data[key])\n",
            "  File \"/usr/local/lib/python3.10/dist-packages/great_expectations/core/util.py\", line 257, in convert_to_json_serializable\n",
            "    for idx, val in data.iteritems()\n",
            "  File \"/usr/local/lib/python3.10/dist-packages/pandas/core/generic.py\", line 5989, in __getattr__\n",
            "    return object.__getattribute__(self, name)\n",
            "AttributeError: 'Series' object has no attribute 'iteritems'\n",
            "\u001b[31m'Series' object has no attribute 'iteritems'\u001b[0m\u001b[0m\n",
            "\u001b[0m"
          ]
        }
      ],
      "source": [
        "!great_expectations checkpoint run avocado_data"
      ]
    },
    {
      "cell_type": "markdown",
      "metadata": {
        "id": "OoRHT3dqunHE"
      },
      "source": [
        "Para resumir: un checkpoint es una _verificación ejecutable_ para tus datos. Son tu primer paso para integrar Great Expectations en tus canalizaciones y flujos de trabajo.\n",
        "\n",
        "Para obtener más información sobre cómo hacerlo, consulta las [guías de validación](https://docs.greatexpectations.io/en/latest/guides/how_to_guides/validation.html) o las [guías de flujos de trabajo y patrones](https://docs.greatexpectations.io/en/latest/guides/workflows_patterns.html).\n",
        "\n",
        "Los checkpoints y los lotes se representan visualmente a continuación.\n",
        "\n",
        "<img src=\"https://github.com/datarootsio/tutorial-great-expectations/blob/main/figures/checkpoint.png?raw=1\" width=600px>\n",
        "<img src=\"https://github.com/datarootsio/tutorial-great-expectations/blob/main/figures/batch.png?raw=1\" width=600px>"
      ]
    },
    {
      "cell_type": "markdown",
      "metadata": {
        "id": "pVSz1da1unHE"
      },
      "source": [
        "<a id=\"section-profiling\"></a>\n",
        "## Profiling"
      ]
    },
    {
      "cell_type": "markdown",
      "metadata": {
        "id": "yYy6aHNAunHE"
      },
      "source": [
        "En las secciones anteriores, exploramos cómo obtener algunas métricas sobre nuestros datos utilizando expectativas. Pero, ¿qué pasa si no sabes exactamente qué esperar de tus datos? Bueno, podrías intentar usar la función de perfilado de Great Expectations, que puede intentar extraer algunas métricas útiles de tus datos. Para probar el perfilado de nuestra fuente de datos `data_dir` preconfigurada, podemos usar la CLI:"
      ]
    },
    {
      "cell_type": "code",
      "execution_count": null,
      "metadata": {
        "id": "ZgwSNe2zunHE",
        "outputId": "1d4d02e8-a2b4-4c17-b92e-887737458838",
        "colab": {
          "base_uri": "https://localhost:8080/"
        }
      },
      "outputs": [
        {
          "output_type": "stream",
          "name": "stdout",
          "text": [
            "Using v3 (Batch Request) API\u001b[0m\n",
            "Usage: great_expectations datasource [OPTIONS] COMMAND [ARGS]...\n",
            "Try 'great_expectations datasource --help' for help.\n",
            "\n",
            "Error: No such command 'profile'.\n",
            "\u001b[0m"
          ]
        }
      ],
      "source": [
        "!great_expectations datasource profile data_dir -y"
      ]
    },
    {
      "cell_type": "markdown",
      "metadata": {
        "id": "z4mBDeVdunHF"
      },
      "source": [
        "Si estás ejecutando en tu propio sistema operativo, ejecutar ese comando debería haber abierto los documentos de datos recién creados en tu navegador. Si no, puedes [ver los resultados de nuestra ejecución](https://datarootsio.github.io/tutorial-great-expectations/profiling). Puedes encontrar los resultados en la pestaña `Profiling Results`. El perfilador también generó una suite de expectativas basada en sus observaciones, que puedes encontrar en la pestaña `Expectation Suites`. Ten en cuenta que esta es una función experimental y la suite generada generalmente no es tan útil, pero podría ser un buen punto de partida para escribir las tuyas propias.\n",
        "\n",
        "Si deseas saber más sobre el perfilado, la [referencia de perfilado](https://docs.greatexpectations.io/en/latest/reference/spare_parts/profiling_reference.html) puede ayudarte."
      ]
    },
    {
      "cell_type": "markdown",
      "metadata": {
        "id": "yYbtFE2_unHF"
      },
      "source": [
        "<a id=\"section-cli\"></a>\n",
        "## The Great Expectations CLI\n",
        "\n",
        "Para los propósitos de este tutorial, principalmente interactuamos directamente con Great Expectations. Si vas a configurar y usar Great Expectations por ti mismo, te recomendamos usar la CLI tanto como sea posible. Los conceptos deberían serte familiares a estas alturas: consulta la [guía de la CLI](https://docs.greatexpectations.io/en/latest/guides/how_to_guides/miscellaneous/command_line.html) para más información."
      ]
    },
    {
      "cell_type": "code",
      "execution_count": null,
      "metadata": {
        "id": "UCtwUvbQunHF",
        "outputId": "b239154b-4c53-4bf5-e970-821286a0eeb2",
        "colab": {
          "base_uri": "https://localhost:8080/"
        }
      },
      "outputs": [
        {
          "output_type": "stream",
          "name": "stdout",
          "text": [
            "Usage: great_expectations [OPTIONS] COMMAND [ARGS]...\n",
            "\n",
            "  Welcome to the great_expectations CLI!\n",
            "\n",
            "  Most commands follow this format: great_expectations <NOUN> <VERB>\n",
            "\n",
            "  The nouns are: checkpoint, datasource, docs, init, project, store, suite,\n",
            "  validation-operator. Most nouns accept the following verbs: new, list, edit\n",
            "\n",
            "Options:\n",
            "  --version                Show the version and exit.\n",
            "  --v3-api / --v2-api      Default to v3 (Batch Request) API. Use --v2-api for\n",
            "                           v2 (Batch Kwargs) API\n",
            "  -v, --verbose            Set great_expectations to use verbose output.\n",
            "  -c, --config TEXT        Path to great_expectations configuration file\n",
            "                           location (great_expectations.yml). Inferred if not\n",
            "                           provided.\n",
            "  -y, --assume-yes, --yes  Assume \"yes\" for all prompts.\n",
            "  --help                   Show this message and exit.\n",
            "\n",
            "Commands:\n",
            "  checkpoint  Checkpoint operations\n",
            "  datasource  Datasource operations\n",
            "  docs        Data Docs operations\n",
            "  init        Initialize a new Great Expectations project.\n",
            "  project     Project operations\n",
            "  store       Store operations\n",
            "  suite       Expectation Suite operations\n",
            "\u001b[0m"
          ]
        }
      ],
      "source": [
        "!great_expectations --help"
      ]
    },
    {
      "cell_type": "markdown",
      "metadata": {
        "id": "9w1-Un0QunHF"
      },
      "source": [
        "<a id=\"section-setup\"></a>\n",
        "## Setting up your own project\n",
        "\n",
        "Para iniciar tu propio proyecto, ejecuta `great_expectations init` y sigue las instrucciones. Esto te proporcionará una configuración sencilla, como la que proporcionamos.\n",
        "\n",
        "Una vez que hayas creado tu suite usando `rgeat_expectations suite new`, puedes usar el comando `great_expectations suite edit` para abrir un cuaderno autogenerado que puedes usar para configurar tu suite. ¡Deberías ser capaz de reconocer la estructura de la primera parte de este cuaderno! ;-)\n",
        "\n",
        "La [guía para empezar](https://docs.greatexpectations.io/en/latest/guides/tutorials/getting_started.html) puede ayudarte en el camino. Para obtener ideas sobre cómo Great Expectations puede integrarse en tu flujo de trabajo, consulta [Patrones de despliegue](https://docs.greatexpectations.io/en/latest/reference/core_concepts/validation.html#deployment-patterns).\n"
      ]
    },
    {
      "cell_type": "markdown",
      "source": [
        "\n",
        "<a id=\"section-conclusion\"></a>\n",
        "## Final words\n",
        "Para recapitular, en este cuaderno tutorial, comenzamos dándote una visión general de la herramienta y su propósito. Luego te mostramos cómo comenzar con la biblioteca de Python y definir tus expectativas. Vimos que las expectativas pueden agruparse como suites, que pueden usarse con operadores de validación para producir resultados de validación. Echamos un vistazo a los documentos de datos, una forma clara de visualizar tus resultados y documentación de datos. Luego profundizamos en el contexto de datos, mostrando cómo se configura la herramienta. Echamos un vistazo a los checkpoints, que te permiten automatizar tus pruebas de datos. Hablamos un poco sobre el perfilado, una función experimental para generar expectativas a partir de datos dados. Finalmente, te presentamos la CLI y te encaminamos para que comiences a usar Great Expectations de inmediato.\n",
        "\n",
        "¡Esperamos que hayas disfrutado del tutorial y te deseamos lo mejor en el uso de Great Expectations con tus proyectos!\n",
        "\n",
        "¿Interesado en soporte? No dudes en contactarnos a info@dataroots.io (¡en inglés!)."
      ],
      "metadata": {
        "id": "h6A04DSzOjos"
      }
    }
  ],
  "metadata": {
    "kernelspec": {
      "display_name": "Python 3",
      "language": "python",
      "name": "python3"
    },
    "language_info": {
      "codemirror_mode": {
        "name": "ipython",
        "version": 3
      },
      "file_extension": ".py",
      "mimetype": "text/x-python",
      "name": "python",
      "nbconvert_exporter": "python",
      "pygments_lexer": "ipython3",
      "version": "3.9.0"
    },
    "colab": {
      "provenance": [],
      "toc_visible": true,
      "include_colab_link": true
    }
  },
  "nbformat": 4,
  "nbformat_minor": 0
}